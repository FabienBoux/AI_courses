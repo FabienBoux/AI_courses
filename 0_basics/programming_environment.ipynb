{
 "cells": [
  {
   "cell_type": "markdown",
   "id": "3df8c2b0-334f-4a58-a19c-2491b1740331",
   "metadata": {},
   "source": [
    "\n",
    "## Package management\n",
    "\n",
    "\n",
    "\n",
    "```conda``` is a cross-platform package manager, and ```conda-forge```, a package channel. Anaconda Inc. (formerly Continuum IO), the main developers of the ```conda``` software, also maintain a separate channel of packages, which is the ```default``` when you type ```conda install packagename``` without changing any options.\n",
    "\n",
    "There are four main reasons to use the ```conda-forge``` channel instead of the ```default``` channel maintained by Anaconda:\n",
    "\n",
    "- Packages on conda-forge may be more up-to-date than those on the defaults channel \n",
    "- There are packages on the conda-forge channel that aren't available from defaults\n",
    "- You would prefer to use a dependency such as openblas (from conda-forge) instead of mkl (from defaults).\n",
    "- If you are installing a package that requires a compiled library (e.g., a C extension or a wrapper around a C library), it may reduce the chance of incompatibilities if you install all of the packages in an environment from a single channel due to binary compatibility of the base C library (but this advice may be out of date/change in the future). For reference, see the Conda Forge post on mixing channels.\n",
    "\n",
    "[//]: <> (https://stackoverflow.com/questions/39857289/should-conda-or-conda-forge-be-used-for-python-environments)\n",
    "\n",
    "\n",
    "```\n",
    "conda install -c some-channel packagename\n",
    "```"
   ]
  }
 ],
 "metadata": {
  "kernelspec": {
   "display_name": "Python 3 (ipykernel)",
   "language": "python",
   "name": "python3"
  },
  "language_info": {
   "codemirror_mode": {
    "name": "ipython",
    "version": 3
   },
   "file_extension": ".py",
   "mimetype": "text/x-python",
   "name": "python",
   "nbconvert_exporter": "python",
   "pygments_lexer": "ipython3",
   "version": "3.9.7"
  },
  "widgets": {
   "application/vnd.jupyter.widget-state+json": {
    "state": {},
    "version_major": 2,
    "version_minor": 0
   }
  }
 },
 "nbformat": 4,
 "nbformat_minor": 5
}
