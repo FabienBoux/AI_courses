{
 "cells": [
  {
   "cell_type": "markdown",
   "id": "60986922-ffc7-4130-a63c-c1d010427614",
   "metadata": {},
   "source": [
    "# Probability distributions\n",
    "\n",
    "\n",
    "\n",
    "## Content \n",
    "\n",
    "- Central Limit Theorem (CLT)\n",
    "\n",
    "\n"
   ]
  },
  {
   "cell_type": "code",
   "execution_count": 1,
   "id": "5cc46259-ea57-474c-a04e-521bcc3f62ef",
   "metadata": {},
   "outputs": [],
   "source": [
    "import numpy as np\n",
    "from scipy.stats import kurtosis, skew\n",
    "\n",
    "import seaborn as sns\n",
    "import matplotlib.pyplot as plt\n",
    "\n",
    "from ipywidgets import interact, interactive, fixed, interact_manual\n",
    "from IPython.display import display"
   ]
  },
  {
   "cell_type": "markdown",
   "id": "77b36c9c-49b6-4a39-8e5a-8658e9f48613",
   "metadata": {},
   "source": [
    "## Sampling distribution\n",
    "\n",
    "In different problems, we often want to estimate a parameter for a population, e.g. the mean or standard deviation. Usually, we cannot collect data from the overall population and the way to estimate the parameters of our population is to consider a sample of size ```n```. Note that the statistic that we obtain for each random sample could be far from the real population value because it is a random sample and for this reason, we perform this process a serie of times, which we call trials.\n",
    "\n",
    "Example: We consider a population of 100 skiers with race numbers between 0 and 99. Then, mean and standard deviation are 49.5 and 28.866, respectively. Considering 50 random samples of size 10, we compute means and standard deviations:"
   ]
  },
  {
   "cell_type": "code",
   "execution_count": 4,
   "id": "ec92c9c2-2ff2-46d1-9bea-799f3af69f88",
   "metadata": {
    "jupyter": {
     "source_hidden": true
    },
    "tags": []
   },
   "outputs": [
    {
     "data": {
      "image/png": "[encoded data removed]",
      "text/plain": [
       "<Figure size 432x288 with 1 Axes>"
      ]
     },
     "metadata": {
      "needs_background": "light"
     },
     "output_type": "display_data"
    }
   ],
   "source": [
    "X = np.random.choice(np.arange(0, 100), 100, replace=False)\n",
    "\n",
    "rs = []\n",
    "for i in range(50):\n",
    "    rs.append(np.random.choice(X, 10))\n",
    "rs = np.array(rs)\n",
    "\n",
    "plt.hist(rs.mean(axis=1), bins=100, label=\"mean\")\n",
    "plt.hist(rs.std(axis=1), bins=100, label=\"standard deviation\")\n",
    "plt.legend();"
   ]
  },
  {
   "cell_type": "markdown",
   "id": "ee8b98f6-d361-4e1d-9cfe-97c8380a0a18",
   "metadata": {},
   "source": [
    "We obtain two sample distributions of the sample mean and of the sample standard deviation for a sample size equal to 10."
   ]
  },
  {
   "cell_type": "markdown",
   "id": "81b00e5b-2a46-4675-a212-8e6b5cb3f719",
   "metadata": {},
   "source": [
    "### Central Limit Theorem (CLT)\n",
    "\n",
    "In probability theory, the CLT states that the distribution of a sample variable approximates a normal distribution as the sample size increases. It assumes that all samples are identical in size and gives only an asymptotic distribution but provides a reasonable approximation with a very large number of observations.\n",
    "\n",
    "In the following, we want to get the intuition on the CLT. In this purpose, we define a non-normal distribution:"
   ]
  },
  {
   "cell_type": "code",
   "execution_count": 7,
   "id": "ddc439f9-9129-4bbb-b22a-aa2c5abe0d92",
   "metadata": {
    "jupyter": {
     "source_hidden": true
    },
    "tags": []
   },
   "outputs": [
    {
     "data": {
      "image/png": "[encoded data removed]",
      "text/plain": [
       "<Figure size 432x288 with 1 Axes>"
      ]
     },
     "metadata": {
      "needs_background": "light"
     },
     "output_type": "display_data"
    }
   ],
   "source": [
    "elements = np.arange(10)\n",
    "probabilities = [0.26, 0, 0.01, 0.04, 0.06, 0, 0, 0.29, 0.13, 0.21]\n",
    "\n",
    "X = np.random.choice(elements, 100, p=probabilities)\n",
    "sns.histplot(X, stat='probability');"
   ]
  },
  {
   "cell_type": "markdown",
   "id": "45d4f60a-5480-4334-907d-2cc6e3a447f9",
   "metadata": {},
   "source": [
    "We can draw samples from it and for each of these samples calculate its mean and visualize the distribution of the sample mean for a sample size equal to 5. We can do it as many times as desired."
   ]
  },
  {
   "cell_type": "code",
   "execution_count": 8,
   "id": "2f319dbd-c7a9-467f-8a71-7091b52db622",
   "metadata": {
    "jupyter": {
     "source_hidden": true
    },
    "tags": []
   },
   "outputs": [
    {
     "data": {
      "application/vnd.jupyter.widget-view+json": {
       "model_id": "053debd5d12f430c8162751b5d6fb171",
       "version_major": 2,
       "version_minor": 0
      },
      "text/plain": [
       "interactive(children=(IntSlider(value=100, description='Samples', max=10000, min=100, step=100), IntSlider(val…"
      ]
     },
     "metadata": {},
     "output_type": "display_data"
    }
   ],
   "source": [
    "elements = np.arange(10)\n",
    "probabilities = [0.26, 0, 0.01, 0.04, 0.06, 0, 0, 0.29, 0.13, 0.21]\n",
    "\n",
    "def plot1(Samples=100, Trials=5):\n",
    "    s = []\n",
    "    for i in range(Samples):\n",
    "        s.append(np.random.choice(elements, Trials, p=probabilities))\n",
    "    s = np.mean(np.asarray(s), axis=1)\n",
    "    \n",
    "    sns.histplot(s, stat='probability')\n",
    "    plt.xlim([0, 10])\n",
    "    \n",
    "    print('Mean:\\t %.2f' % np.mean(s))\n",
    "    print('Std:\\t %.2f' % np.std(s))\n",
    "    # print('Kurtosis: %.2f' % kurtosis(s))\n",
    "    # print('Skew:\\t %.2f' % skew(s))\n",
    "    print(' ')\n",
    "    \n",
    "interact(plot1, Samples=(100, 10000, 100), Trials=(1,100,1));"
   ]
  },
  {
   "cell_type": "markdown",
   "id": "30c53127-ca81-4d4d-9d6f-7352eaa86f0c",
   "metadata": {
    "tags": []
   },
   "source": [
    "This distribution does not look like the original distribution and the CTL tells us that as you take more samples and calculate the mean, the resulting distribution, will approximate a normal distribution. The CTL also tells us that the approximation becomes better as the sample size increases (it results in a decrease of the standard deviation).\n",
    "\n",
    "Conventionally, a sample size bigger than 30 is enought to approximate the normal distribution. Not surprisingly the mean of the distribution does not change and note that for the normal distribution, the kurtosis and skewness should be zero. In fact, the standard deviation of our sampling distribution of sample means is the only property that change and is the square root of the standard deviation of the original population divided by the sample size:\n",
    "\n",
    "$$\\sigma_{\\bar{x}} = \\sqrt{\\frac{\\sigma^2}{n}}.$$\n",
    "\n",
    "This is the reason why the normal distribution is so often used to model different processes. Even if you do not know the distribution of a process that you want to describe statistically, if you add or take the mean of your measurements (assuming that they all have the same distribution), suddenly you get a normal distribution."
   ]
  }
 ],
 "metadata": {
  "kernelspec": {
   "display_name": "Python 3 (ipykernel)",
   "language": "python",
   "name": "python3"
  },
  "language_info": {
   "codemirror_mode": {
    "name": "ipython",
    "version": 3
   },
   "file_extension": ".py",
   "mimetype": "text/x-python",
   "name": "python",
   "nbconvert_exporter": "python",
   "pygments_lexer": "ipython3",
   "version": "3.9.7"
  },
  "widgets": {
   "application/vnd.jupyter.widget-state+json": {
    "state": {
     "053debd5d12f430c8162751b5d6fb171": {
      "model_module": "@jupyter-widgets/controls",
      "model_module_version": "1.5.0",
      "model_name": "VBoxModel",
      "state": {
       "_dom_classes": [
        "widget-interact"
       ],
       "children": [
        "IPY_MODEL_0b0b95109cca4acfaeb7a8418ac07f52",
        "IPY_MODEL_425943bb4b1e4d499b57cd51a148ce5c",
        "IPY_MODEL_a2d85549e33b419584832d5412df7a7d"
       ],
       "layout": "IPY_MODEL_cfbda19e911644fbbf2f3c22927a0a97"
      }
     },
     "09b7d480649a4b31ab5a57a5432f7c03": {
      "model_module": "@jupyter-widgets/base",
      "model_module_version": "1.2.0",
      "model_name": "LayoutModel",
      "state": {}
     },
     "0b0b95109cca4acfaeb7a8418ac07f52": {
      "model_module": "@jupyter-widgets/controls",
      "model_module_version": "1.5.0",
      "model_name": "IntSliderModel",
      "state": {
       "description": "Samples",
       "layout": "IPY_MODEL_457f9153dad648c2839a08072cc95ee0",
       "max": 10000,
       "min": 100,
       "step": 100,
       "style": "IPY_MODEL_68f004f6955140158d22bcc298365721",
       "value": 10000
      }
     },
     "425943bb4b1e4d499b57cd51a148ce5c": {
      "model_module": "@jupyter-widgets/controls",
      "model_module_version": "1.5.0",
      "model_name": "IntSliderModel",
      "state": {
       "description": "Trials",
       "layout": "IPY_MODEL_bd7ee987c4f643cdb1be511c3bfeac33",
       "min": 1,
       "style": "IPY_MODEL_a9ca289991254c2ea3444913567b5e11",
       "value": 33
      }
     },
     "457f9153dad648c2839a08072cc95ee0": {
      "model_module": "@jupyter-widgets/base",
      "model_module_version": "1.2.0",
      "model_name": "LayoutModel",
      "state": {}
     },
     "68f004f6955140158d22bcc298365721": {
      "model_module": "@jupyter-widgets/controls",
      "model_module_version": "1.5.0",
      "model_name": "SliderStyleModel",
      "state": {
       "description_width": ""
      }
     },
     "a2d85549e33b419584832d5412df7a7d": {
      "model_module": "@jupyter-widgets/output",
      "model_module_version": "1.0.0",
      "model_name": "OutputModel",
      "state": {
       "layout": "IPY_MODEL_09b7d480649a4b31ab5a57a5432f7c03",
       "outputs": [
        {
         "name": "stdout",
         "output_type": "stream",
         "text": "Mean:\t 5.34\nStd:\t 0.61\n \n"
        },
        {
         "data": {
          "image/png": "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\n",
          "text/plain": "<Figure size 432x288 with 1 Axes>"
         },
         "metadata": {
          "needs_background": "light"
         },
         "output_type": "display_data"
        }
       ]
      }
     },
     "a9ca289991254c2ea3444913567b5e11": {
      "model_module": "@jupyter-widgets/controls",
      "model_module_version": "1.5.0",
      "model_name": "SliderStyleModel",
      "state": {
       "description_width": ""
      }
     },
     "bd7ee987c4f643cdb1be511c3bfeac33": {
      "model_module": "@jupyter-widgets/base",
      "model_module_version": "1.2.0",
      "model_name": "LayoutModel",
      "state": {}
     },
     "cfbda19e911644fbbf2f3c22927a0a97": {
      "model_module": "@jupyter-widgets/base",
      "model_module_version": "1.2.0",
      "model_name": "LayoutModel",
      "state": {}
     }
    },
    "version_major": 2,
    "version_minor": 0
   }
  }
 },
 "nbformat": 4,
 "nbformat_minor": 5
}
