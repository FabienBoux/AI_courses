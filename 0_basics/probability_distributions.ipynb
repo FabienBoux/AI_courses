{
 "cells": [
  {
   "cell_type": "markdown",
   "id": "60986922-ffc7-4130-a63c-c1d010427614",
   "metadata": {},
   "source": [
    "# Probability distributions\n",
    "\n",
    "\n",
    "\n",
    "## Content \n",
    "\n",
    "- Central Limit Theorem (CLT)\n",
    "\n",
    "\n"
   ]
  },
  {
   "cell_type": "code",
   "execution_count": 22,
   "id": "5cc46259-ea57-474c-a04e-521bcc3f62ef",
   "metadata": {},
   "outputs": [],
   "source": [
    "import numpy as np\n",
    "from scipy.stats import kurtosis, skew\n",
    "\n",
    "import seaborn as sns\n",
    "import matplotlib.pyplot as plt\n",
    "\n",
    "from ipywidgets import interact, interactive, fixed, interact_manual\n",
    "from IPython.display import display"
   ]
  },
  {
   "cell_type": "markdown",
   "id": "77b36c9c-49b6-4a39-8e5a-8658e9f48613",
   "metadata": {},
   "source": [
    "## Sampling distribution\n",
    "\n",
    "In different problems, we often want to estimate a parameter for a population, e.g. the mean or standard deviation. Usually, we cannot collect data from the overall population and the way to estimate the parameters of our population is to consider a sample of size ```n```. Note that the statistic that we obtain for each random sample could be far from the real population value because it is a random sample and for this reason, we perform this process a serie of times, which we call trials.\n",
    "\n",
    "Example: We consider a population of 100 skiers with race numbers between 0 and 99. Then, mean and standard deviation are 49.5 and 28.866, respectively. Considering 50 random samples of size 10, we compute means and standard deviations:"
   ]
  },
  {
   "cell_type": "code",
   "execution_count": 44,
   "id": "ec92c9c2-2ff2-46d1-9bea-799f3af69f88",
   "metadata": {
    "jupyter": {
     "source_hidden": true
    },
    "tags": []
   },
   "outputs": [
    {
     "data": {
      "image/png": "[encoded data removed]",
      "text/plain": [
       "<Figure size 432x288 with 1 Axes>"
      ]
     },
     "metadata": {
      "needs_background": "light"
     },
     "output_type": "display_data"
    }
   ],
   "source": [
    "X = np.random.choice(np.arange(0, 100), 100, replace=False)\n",
    "\n",
    "rs = []\n",
    "for i in range(50):\n",
    "    rs.append(np.random.choice(X, 10))\n",
    "rs = np.array(rs)\n",
    "\n",
    "plt.hist(rs.mean(axis=1), bins=100, label=\"mean\")\n",
    "plt.hist(rs.std(axis=1), bins=100, label=\"standard deviation\")\n",
    "plt.legend();"
   ]
  },
  {
   "cell_type": "markdown",
   "id": "ee8b98f6-d361-4e1d-9cfe-97c8380a0a18",
   "metadata": {},
   "source": [
    "We obtain two sample distributions of the sample mean and of the sample standard deviation for a sample size equal to 10."
   ]
  },
  {
   "cell_type": "markdown",
   "id": "81b00e5b-2a46-4675-a212-8e6b5cb3f719",
   "metadata": {},
   "source": [
    "### Central Limit Theorem (CLT)\n",
    "\n",
    "In probability theory, the CLT states that the distribution of a sample variable approximates a normal distribution as the sample size increases. It assumes that all samples are identical in size and gives only an asymptotic distribution but provides a reasonable approximation with a very large number of observations.\n",
    "\n",
    "In the following, we want to get the intuition on the CLT. In this purpose, we define a non-normal distributions:\n",
    "\n",
    "- Distrib 1\n",
    "- Distrib 2 \n",
    "- Distrib 3\n",
    "\n"
   ]
  },
  {
   "cell_type": "code",
   "execution_count": 45,
   "id": "ddc439f9-9129-4bbb-b22a-aa2c5abe0d92",
   "metadata": {
    "jupyter": {
     "source_hidden": true
    },
    "tags": []
   },
   "outputs": [
    {
     "data": {
      "image/png": "[encoded data removed]",
      "text/plain": [
       "<Figure size 432x288 with 1 Axes>"
      ]
     },
     "metadata": {
      "needs_background": "light"
     },
     "output_type": "display_data"
    },
    {
     "data": {
      "application/vnd.jupyter.widget-view+json": {
       "model_id": "506579f4a80e48cfb0017f56070c8c34",
       "version_major": 2,
       "version_minor": 0
      },
      "text/plain": [
       "interactive(children=(IntSlider(value=100, description='samples', max=300, min=-100), Output()), _dom_classes=…"
      ]
     },
     "metadata": {},
     "output_type": "display_data"
    }
   ],
   "source": [
    "elements = np.arange(10)\n",
    "probabilities = [0.26, 0, 0.01, 0.04, 0.06, 0, 0, 0.29, 0.13, 0.21]\n",
    "\n",
    "X = np.random.choice(elements, 100, p=probabilities)\n",
    "sns.histplot(X, stat='probability')\n",
    "\n",
    "interact(plot1, Samples=(10, 1000, 10));"
   ]
  },
  {
   "cell_type": "markdown",
   "id": "45d4f60a-5480-4334-907d-2cc6e3a447f9",
   "metadata": {},
   "source": [
    "We can draw samples from it and for each of these samples calculate its mean and visualize the distribution of the sample mean for a sample size equal to 5. We can do it as many times as desired."
   ]
  },
  {
   "cell_type": "code",
   "execution_count": 57,
   "id": "2f319dbd-c7a9-467f-8a71-7091b52db622",
   "metadata": {
    "tags": []
   },
   "outputs": [
    {
     "data": {
      "application/vnd.jupyter.widget-view+json": {
       "model_id": "266a7a64c66043f3a610e5ba9c0a54e4",
       "version_major": 2,
       "version_minor": 0
      },
      "text/plain": [
       "interactive(children=(IntSlider(value=100, description='Samples', max=10000, min=100, step=100), IntSlider(val…"
      ]
     },
     "metadata": {},
     "output_type": "display_data"
    }
   ],
   "source": [
    "elements = np.arange(10)\n",
    "probabilities = [0.26, 0, 0.01, 0.04, 0.06, 0, 0, 0.29, 0.13, 0.21]\n",
    "\n",
    "def plot1(Samples=100, Trials=5):\n",
    "    s = []\n",
    "    for i in range(Samples):\n",
    "        s.append(np.random.choice(elements, Trials, p=probabilities))\n",
    "    s = np.mean(np.asarray(s), axis=1)\n",
    "    \n",
    "    sns.histplot(s, stat='probability')\n",
    "    plt.xlim([0, 10])\n",
    "    \n",
    "    print('Mean:\\t %.2f' % np.mean(s))\n",
    "    print('Std:\\t %.2f' % np.std(s))\n",
    "    # print('Kurtosis: %.2f' % kurtosis(s))\n",
    "    # print('Skew:\\t %.2f' % skew(s))\n",
    "    print(' ')\n",
    "    \n",
    "interact(plot1, Samples=(100, 10000, 100), Trials=(1,100,1));"
   ]
  },
  {
   "cell_type": "markdown",
   "id": "30c53127-ca81-4d4d-9d6f-7352eaa86f0c",
   "metadata": {},
   "source": [
    "This distribution does not look like the original distribution and the CTL tells us that as you take more samples and calculate the mean, the resulting distribution, will approximate a normal distribution. The CTL also tells us that the approximation becomes better as the sample size increases.\n",
    "\n",
    "Note that for the normal distribution, the kurtosis and skewness should be zero."
   ]
  }
 ],
 "metadata": {
  "kernelspec": {
   "display_name": "Python 3 (ipykernel)",
   "language": "python",
   "name": "python3"
  },
  "language_info": {
   "codemirror_mode": {
    "name": "ipython",
    "version": 3
   },
   "file_extension": ".py",
   "mimetype": "text/x-python",
   "name": "python",
   "nbconvert_exporter": "python",
   "pygments_lexer": "ipython3",
   "version": "3.9.7"
  },
  "widgets": {
   "application/vnd.jupyter.widget-state+json": {
    "state": {
     "01774fba24b941bea8ab03f511e111bc": {
      "model_module": "@jupyter-widgets/base",
      "model_module_version": "1.2.0",
      "model_name": "LayoutModel",
      "state": {}
     },
     "0228a04402034408a240e24a673b3382": {
      "model_module": "@jupyter-widgets/base",
      "model_module_version": "1.2.0",
      "model_name": "LayoutModel",
      "state": {}
     },
     "029dad6156344c85ba5cd6ba2a657c35": {
      "model_module": "@jupyter-widgets/output",
      "model_module_version": "1.0.0",
      "model_name": "OutputModel",
      "state": {
       "layout": "IPY_MODEL_0c115492667d4521bc2992fcb776206b",
       "outputs": [
        {
         "name": "stdout",
         "output_type": "stream",
         "text": "Mean: 05\nStd: {:.2f}\n"
        },
        {
         "ename": "NameError",
         "evalue": "name 'kurtosis' is not defined",
         "output_type": "error",
         "traceback": [
          "\u001b[1;31m---------------------------------------------------------------------------\u001b[0m",
          "\u001b[1;31mNameError\u001b[0m                                 Traceback (most recent call last)",
          "\u001b[1;32mC:\\ProgramData\\Anaconda3\\envs\\NanoRad\\lib\\site-packages\\ipywidgets\\widgets\\interaction.py\u001b[0m in \u001b[0;36mupdate\u001b[1;34m(self, *args)\u001b[0m\n\u001b[0;32m    255\u001b[0m                     \u001b[0mvalue\u001b[0m \u001b[1;33m=\u001b[0m \u001b[0mwidget\u001b[0m\u001b[1;33m.\u001b[0m\u001b[0mget_interact_value\u001b[0m\u001b[1;33m(\u001b[0m\u001b[1;33m)\u001b[0m\u001b[1;33m\u001b[0m\u001b[1;33m\u001b[0m\u001b[0m\n\u001b[0;32m    256\u001b[0m                     \u001b[0mself\u001b[0m\u001b[1;33m.\u001b[0m\u001b[0mkwargs\u001b[0m\u001b[1;33m[\u001b[0m\u001b[0mwidget\u001b[0m\u001b[1;33m.\u001b[0m\u001b[0m_kwarg\u001b[0m\u001b[1;33m]\u001b[0m \u001b[1;33m=\u001b[0m \u001b[0mvalue\u001b[0m\u001b[1;33m\u001b[0m\u001b[1;33m\u001b[0m\u001b[0m\n\u001b[1;32m--> 257\u001b[1;33m                 \u001b[0mself\u001b[0m\u001b[1;33m.\u001b[0m\u001b[0mresult\u001b[0m \u001b[1;33m=\u001b[0m \u001b[0mself\u001b[0m\u001b[1;33m.\u001b[0m\u001b[0mf\u001b[0m\u001b[1;33m(\u001b[0m\u001b[1;33m**\u001b[0m\u001b[0mself\u001b[0m\u001b[1;33m.\u001b[0m\u001b[0mkwargs\u001b[0m\u001b[1;33m)\u001b[0m\u001b[1;33m\u001b[0m\u001b[1;33m\u001b[0m\u001b[0m\n\u001b[0m\u001b[0;32m    258\u001b[0m                 \u001b[0mshow_inline_matplotlib_plots\u001b[0m\u001b[1;33m(\u001b[0m\u001b[1;33m)\u001b[0m\u001b[1;33m\u001b[0m\u001b[1;33m\u001b[0m\u001b[0m\n\u001b[0;32m    259\u001b[0m                 \u001b[1;32mif\u001b[0m \u001b[0mself\u001b[0m\u001b[1;33m.\u001b[0m\u001b[0mauto_display\u001b[0m \u001b[1;32mand\u001b[0m \u001b[0mself\u001b[0m\u001b[1;33m.\u001b[0m\u001b[0mresult\u001b[0m \u001b[1;32mis\u001b[0m \u001b[1;32mnot\u001b[0m \u001b[1;32mNone\u001b[0m\u001b[1;33m:\u001b[0m\u001b[1;33m\u001b[0m\u001b[1;33m\u001b[0m\u001b[0m\n",
          "\u001b[1;32mC:\\Users\\FABIEN~1\\AppData\\Local\\Temp/ipykernel_9208/1434196459.py\u001b[0m in \u001b[0;36mplot1\u001b[1;34m(samples)\u001b[0m\n\u001b[0;32m      8\u001b[0m     \u001b[0mprint\u001b[0m\u001b[1;33m(\u001b[0m\u001b[1;34m'Mean: %.2d'\u001b[0m \u001b[1;33m%\u001b[0m \u001b[0mnp\u001b[0m\u001b[1;33m.\u001b[0m\u001b[0mmean\u001b[0m\u001b[1;33m(\u001b[0m\u001b[0mX\u001b[0m\u001b[1;33m)\u001b[0m\u001b[1;33m)\u001b[0m\u001b[1;33m\u001b[0m\u001b[1;33m\u001b[0m\u001b[0m\n\u001b[0;32m      9\u001b[0m     \u001b[0mprint\u001b[0m\u001b[1;33m(\u001b[0m\u001b[1;34m'Std: {:.2f}'\u001b[0m \u001b[1;33m%\u001b[0m \u001b[0mnp\u001b[0m\u001b[1;33m.\u001b[0m\u001b[0mstd\u001b[0m\u001b[1;33m(\u001b[0m\u001b[0mX\u001b[0m\u001b[1;33m)\u001b[0m\u001b[1;33m)\u001b[0m\u001b[1;33m\u001b[0m\u001b[1;33m\u001b[0m\u001b[0m\n\u001b[1;32m---> 10\u001b[1;33m     \u001b[0mprint\u001b[0m\u001b[1;33m(\u001b[0m\u001b[1;34m'Kurtosis: {:.2f}'\u001b[0m \u001b[1;33m%\u001b[0m \u001b[0mkurtosis\u001b[0m\u001b[1;33m(\u001b[0m\u001b[0mX\u001b[0m\u001b[1;33m)\u001b[0m\u001b[1;33m)\u001b[0m\u001b[1;33m\u001b[0m\u001b[1;33m\u001b[0m\u001b[0m\n\u001b[0m\u001b[0;32m     11\u001b[0m     \u001b[0mprint\u001b[0m\u001b[1;33m(\u001b[0m\u001b[1;34m'Skew: {:.2f}'\u001b[0m \u001b[1;33m%\u001b[0m \u001b[0mskew\u001b[0m\u001b[1;33m(\u001b[0m\u001b[0mX\u001b[0m\u001b[1;33m)\u001b[0m\u001b[1;33m)\u001b[0m\u001b[1;33m\u001b[0m\u001b[1;33m\u001b[0m\u001b[0m\n\u001b[0;32m     12\u001b[0m \u001b[1;33m\u001b[0m\u001b[0m\n",
          "\u001b[1;31mNameError\u001b[0m: name 'kurtosis' is not defined"
         ]
        }
       ]
      }
     },
     "0657f3180ce442c4a5c4450648f74360": {
      "model_module": "@jupyter-widgets/controls",
      "model_module_version": "1.5.0",
      "model_name": "VBoxModel",
      "state": {
       "_dom_classes": [
        "widget-interact"
       ],
       "children": [
        "IPY_MODEL_9fc2322f50634e7ca2ea488bb4eed0c0",
        "IPY_MODEL_be18db9b1a604dc4a7cd0369988d7dcc"
       ],
       "layout": "IPY_MODEL_d486506fd1ba4d8bb8576f694b34cd88"
      }
     },
     "07a8be2ee57f4e089cf1003bfab26d92": {
      "model_module": "@jupyter-widgets/base",
      "model_module_version": "1.2.0",
      "model_name": "LayoutModel",
      "state": {}
     },
     "0b760a5afec64e069f8e20a454dcd81b": {
      "model_module": "@jupyter-widgets/controls",
      "model_module_version": "1.5.0",
      "model_name": "IntSliderModel",
      "state": {
       "description": "samples",
       "layout": "IPY_MODEL_bd2dc5fa5e70436aad2ae5c2a6938ed3",
       "max": 300,
       "min": -100,
       "style": "IPY_MODEL_40cbbf089b844e3181b8f10990652acb",
       "value": 100
      }
     },
     "0c115492667d4521bc2992fcb776206b": {
      "model_module": "@jupyter-widgets/base",
      "model_module_version": "1.2.0",
      "model_name": "LayoutModel",
      "state": {}
     },
     "0cc9974733de4800a3c31599ea32bb89": {
      "model_module": "@jupyter-widgets/base",
      "model_module_version": "1.2.0",
      "model_name": "LayoutModel",
      "state": {}
     },
     "0f52d89480ff4a1c8c7667ede816d3c3": {
      "model_module": "@jupyter-widgets/base",
      "model_module_version": "1.2.0",
      "model_name": "LayoutModel",
      "state": {}
     },
     "141df64af0bf46368f9a36dc1a155c15": {
      "model_module": "@jupyter-widgets/controls",
      "model_module_version": "1.5.0",
      "model_name": "SliderStyleModel",
      "state": {
       "description_width": ""
      }
     },
     "142d207b6fce42a0ae600f764d82a0c1": {
      "model_module": "@jupyter-widgets/output",
      "model_module_version": "1.0.0",
      "model_name": "OutputModel",
      "state": {
       "layout": "IPY_MODEL_69f991f24bbd420f9ca9a11c05f34f3e",
       "outputs": [
        {
         "name": "stdout",
         "output_type": "stream",
         "text": "Mean:\t 5.34\nStd:\t 1.59\nKurtosis: -0.26\nSkew:\t -0.27\n"
        },
        {
         "data": {
          "image/png": "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\n",
          "text/plain": "<Figure size 432x288 with 1 Axes>"
         },
         "metadata": {
          "needs_background": "light"
         },
         "output_type": "display_data"
        }
       ]
      }
     },
     "1462e0b5b15e4349a491f59d089efb6f": {
      "model_module": "@jupyter-widgets/controls",
      "model_module_version": "1.5.0",
      "model_name": "IntSliderModel",
      "state": {
       "description": "samples",
       "layout": "IPY_MODEL_abeb795f62874cb296d60096144f08b0",
       "max": 300,
       "min": -100,
       "style": "IPY_MODEL_f963b84bdea241e0be4cceca1fd6cf5d",
       "value": 100
      }
     },
     "15085e24707f4c07b733be49d4c319eb": {
      "model_module": "@jupyter-widgets/controls",
      "model_module_version": "1.5.0",
      "model_name": "VBoxModel",
      "state": {
       "_dom_classes": [
        "widget-interact"
       ],
       "children": [
        "IPY_MODEL_1c40a45c466546f08276acb760b66fcb",
        "IPY_MODEL_d1085b8a20a24ec1af288d3cc6af21d7"
       ],
       "layout": "IPY_MODEL_b7992f09e17848e5a771bfbddf83725d"
      }
     },
     "15faea5bb3454345a12aadd7f83943f1": {
      "model_module": "@jupyter-widgets/base",
      "model_module_version": "1.2.0",
      "model_name": "LayoutModel",
      "state": {}
     },
     "16d430154ae449868381a4cd6072b969": {
      "model_module": "@jupyter-widgets/output",
      "model_module_version": "1.0.0",
      "model_name": "OutputModel",
      "state": {
       "layout": "IPY_MODEL_0cc9974733de4800a3c31599ea32bb89",
       "outputs": [
        {
         "ename": "NameError",
         "evalue": "name 'samples' is not defined",
         "output_type": "error",
         "traceback": [
          "\u001b[1;31m---------------------------------------------------------------------------\u001b[0m",
          "\u001b[1;31mNameError\u001b[0m                                 Traceback (most recent call last)",
          "\u001b[1;32mC:\\ProgramData\\Anaconda3\\envs\\NanoRad\\lib\\site-packages\\ipywidgets\\widgets\\interaction.py\u001b[0m in \u001b[0;36mupdate\u001b[1;34m(self, *args)\u001b[0m\n\u001b[0;32m    255\u001b[0m                     \u001b[0mvalue\u001b[0m \u001b[1;33m=\u001b[0m \u001b[0mwidget\u001b[0m\u001b[1;33m.\u001b[0m\u001b[0mget_interact_value\u001b[0m\u001b[1;33m(\u001b[0m\u001b[1;33m)\u001b[0m\u001b[1;33m\u001b[0m\u001b[1;33m\u001b[0m\u001b[0m\n\u001b[0;32m    256\u001b[0m                     \u001b[0mself\u001b[0m\u001b[1;33m.\u001b[0m\u001b[0mkwargs\u001b[0m\u001b[1;33m[\u001b[0m\u001b[0mwidget\u001b[0m\u001b[1;33m.\u001b[0m\u001b[0m_kwarg\u001b[0m\u001b[1;33m]\u001b[0m \u001b[1;33m=\u001b[0m \u001b[0mvalue\u001b[0m\u001b[1;33m\u001b[0m\u001b[1;33m\u001b[0m\u001b[0m\n\u001b[1;32m--> 257\u001b[1;33m                 \u001b[0mself\u001b[0m\u001b[1;33m.\u001b[0m\u001b[0mresult\u001b[0m \u001b[1;33m=\u001b[0m \u001b[0mself\u001b[0m\u001b[1;33m.\u001b[0m\u001b[0mf\u001b[0m\u001b[1;33m(\u001b[0m\u001b[1;33m**\u001b[0m\u001b[0mself\u001b[0m\u001b[1;33m.\u001b[0m\u001b[0mkwargs\u001b[0m\u001b[1;33m)\u001b[0m\u001b[1;33m\u001b[0m\u001b[1;33m\u001b[0m\u001b[0m\n\u001b[0m\u001b[0;32m    258\u001b[0m                 \u001b[0mshow_inline_matplotlib_plots\u001b[0m\u001b[1;33m(\u001b[0m\u001b[1;33m)\u001b[0m\u001b[1;33m\u001b[0m\u001b[1;33m\u001b[0m\u001b[0m\n\u001b[0;32m    259\u001b[0m                 \u001b[1;32mif\u001b[0m \u001b[0mself\u001b[0m\u001b[1;33m.\u001b[0m\u001b[0mauto_display\u001b[0m \u001b[1;32mand\u001b[0m \u001b[0mself\u001b[0m\u001b[1;33m.\u001b[0m\u001b[0mresult\u001b[0m \u001b[1;32mis\u001b[0m \u001b[1;32mnot\u001b[0m \u001b[1;32mNone\u001b[0m\u001b[1;33m:\u001b[0m\u001b[1;33m\u001b[0m\u001b[1;33m\u001b[0m\u001b[0m\n",
          "\u001b[1;32mC:\\Users\\FABIEN~1\\AppData\\Local\\Temp/ipykernel_9208/958074030.py\u001b[0m in \u001b[0;36mplot1\u001b[1;34m(Samples)\u001b[0m\n\u001b[0;32m      4\u001b[0m \u001b[1;32mdef\u001b[0m \u001b[0mplot1\u001b[0m\u001b[1;33m(\u001b[0m\u001b[0mSamples\u001b[0m\u001b[1;33m=\u001b[0m\u001b[1;36m100\u001b[0m\u001b[1;33m)\u001b[0m\u001b[1;33m:\u001b[0m\u001b[1;33m\u001b[0m\u001b[1;33m\u001b[0m\u001b[0m\n\u001b[0;32m      5\u001b[0m     \u001b[0ms\u001b[0m \u001b[1;33m=\u001b[0m \u001b[1;33m[\u001b[0m\u001b[1;33m]\u001b[0m\u001b[1;33m\u001b[0m\u001b[1;33m\u001b[0m\u001b[0m\n\u001b[1;32m----> 6\u001b[1;33m     \u001b[1;32mfor\u001b[0m \u001b[0mi\u001b[0m \u001b[1;32min\u001b[0m \u001b[0mrange\u001b[0m\u001b[1;33m(\u001b[0m\u001b[0msamples\u001b[0m\u001b[1;33m)\u001b[0m\u001b[1;33m:\u001b[0m\u001b[1;33m\u001b[0m\u001b[1;33m\u001b[0m\u001b[0m\n\u001b[0m\u001b[0;32m      7\u001b[0m         \u001b[0ms\u001b[0m\u001b[1;33m.\u001b[0m\u001b[0mappend\u001b[0m\u001b[1;33m(\u001b[0m\u001b[0mnp\u001b[0m\u001b[1;33m.\u001b[0m\u001b[0mrandom\u001b[0m\u001b[1;33m.\u001b[0m\u001b[0mchoice\u001b[0m\u001b[1;33m(\u001b[0m\u001b[0melements\u001b[0m\u001b[1;33m,\u001b[0m \u001b[1;36m5\u001b[0m\u001b[1;33m,\u001b[0m \u001b[0mp\u001b[0m\u001b[1;33m=\u001b[0m\u001b[0mprobabilities\u001b[0m\u001b[1;33m)\u001b[0m\u001b[1;33m)\u001b[0m\u001b[1;33m\u001b[0m\u001b[1;33m\u001b[0m\u001b[0m\n\u001b[0;32m      8\u001b[0m     \u001b[0ms\u001b[0m \u001b[1;33m=\u001b[0m \u001b[0mnp\u001b[0m\u001b[1;33m.\u001b[0m\u001b[0mmean\u001b[0m\u001b[1;33m(\u001b[0m\u001b[0mnp\u001b[0m\u001b[1;33m.\u001b[0m\u001b[0masarray\u001b[0m\u001b[1;33m(\u001b[0m\u001b[0ms\u001b[0m\u001b[1;33m)\u001b[0m\u001b[1;33m,\u001b[0m \u001b[0maxis\u001b[0m\u001b[1;33m=\u001b[0m\u001b[1;36m1\u001b[0m\u001b[1;33m)\u001b[0m\u001b[1;33m\u001b[0m\u001b[1;33m\u001b[0m\u001b[0m\n",
          "\u001b[1;31mNameError\u001b[0m: name 'samples' is not defined"
         ]
        }
       ]
      }
     },
     "1b471718d0624450a00b64671570410c": {
      "model_module": "@jupyter-widgets/controls",
      "model_module_version": "1.5.0",
      "model_name": "SliderStyleModel",
      "state": {
       "description_width": ""
      }
     },
     "1c40a45c466546f08276acb760b66fcb": {
      "model_module": "@jupyter-widgets/controls",
      "model_module_version": "1.5.0",
      "model_name": "IntSliderModel",
      "state": {
       "description": "samples",
       "layout": "IPY_MODEL_f8ba98749b3943fb8580b34a307e1e98",
       "max": 300,
       "min": -100,
       "style": "IPY_MODEL_ef1c67e6a0bb4c8fac953462f05d4392",
       "value": 100
      }
     },
     "1e28aa080c0245559735e11df987945b": {
      "model_module": "@jupyter-widgets/output",
      "model_module_version": "1.0.0",
      "model_name": "OutputModel",
      "state": {
       "layout": "IPY_MODEL_605fe753e6af4d74b8e793769c5821d4",
       "outputs": [
        {
         "name": "stdout",
         "output_type": "stream",
         "text": "Mean: \t 4.82\nStd: \t 3.59\n"
        },
        {
         "ename": "NameError",
         "evalue": "name 'kurtosis' is not defined",
         "output_type": "error",
         "traceback": [
          "\u001b[1;31m---------------------------------------------------------------------------\u001b[0m",
          "\u001b[1;31mNameError\u001b[0m                                 Traceback (most recent call last)",
          "\u001b[1;32mC:\\ProgramData\\Anaconda3\\envs\\NanoRad\\lib\\site-packages\\ipywidgets\\widgets\\interaction.py\u001b[0m in \u001b[0;36mupdate\u001b[1;34m(self, *args)\u001b[0m\n\u001b[0;32m    255\u001b[0m                     \u001b[0mvalue\u001b[0m \u001b[1;33m=\u001b[0m \u001b[0mwidget\u001b[0m\u001b[1;33m.\u001b[0m\u001b[0mget_interact_value\u001b[0m\u001b[1;33m(\u001b[0m\u001b[1;33m)\u001b[0m\u001b[1;33m\u001b[0m\u001b[1;33m\u001b[0m\u001b[0m\n\u001b[0;32m    256\u001b[0m                     \u001b[0mself\u001b[0m\u001b[1;33m.\u001b[0m\u001b[0mkwargs\u001b[0m\u001b[1;33m[\u001b[0m\u001b[0mwidget\u001b[0m\u001b[1;33m.\u001b[0m\u001b[0m_kwarg\u001b[0m\u001b[1;33m]\u001b[0m \u001b[1;33m=\u001b[0m \u001b[0mvalue\u001b[0m\u001b[1;33m\u001b[0m\u001b[1;33m\u001b[0m\u001b[0m\n\u001b[1;32m--> 257\u001b[1;33m                 \u001b[0mself\u001b[0m\u001b[1;33m.\u001b[0m\u001b[0mresult\u001b[0m \u001b[1;33m=\u001b[0m \u001b[0mself\u001b[0m\u001b[1;33m.\u001b[0m\u001b[0mf\u001b[0m\u001b[1;33m(\u001b[0m\u001b[1;33m**\u001b[0m\u001b[0mself\u001b[0m\u001b[1;33m.\u001b[0m\u001b[0mkwargs\u001b[0m\u001b[1;33m)\u001b[0m\u001b[1;33m\u001b[0m\u001b[1;33m\u001b[0m\u001b[0m\n\u001b[0m\u001b[0;32m    258\u001b[0m                 \u001b[0mshow_inline_matplotlib_plots\u001b[0m\u001b[1;33m(\u001b[0m\u001b[1;33m)\u001b[0m\u001b[1;33m\u001b[0m\u001b[1;33m\u001b[0m\u001b[0m\n\u001b[0;32m    259\u001b[0m                 \u001b[1;32mif\u001b[0m \u001b[0mself\u001b[0m\u001b[1;33m.\u001b[0m\u001b[0mauto_display\u001b[0m \u001b[1;32mand\u001b[0m \u001b[0mself\u001b[0m\u001b[1;33m.\u001b[0m\u001b[0mresult\u001b[0m \u001b[1;32mis\u001b[0m \u001b[1;32mnot\u001b[0m \u001b[1;32mNone\u001b[0m\u001b[1;33m:\u001b[0m\u001b[1;33m\u001b[0m\u001b[1;33m\u001b[0m\u001b[0m\n",
          "\u001b[1;32mC:\\Users\\FABIEN~1\\AppData\\Local\\Temp/ipykernel_9208/1716749063.py\u001b[0m in \u001b[0;36mplot1\u001b[1;34m(samples)\u001b[0m\n\u001b[0;32m      8\u001b[0m     \u001b[0mprint\u001b[0m\u001b[1;33m(\u001b[0m\u001b[1;34m'Mean: \\t %.2f'\u001b[0m \u001b[1;33m%\u001b[0m \u001b[0mnp\u001b[0m\u001b[1;33m.\u001b[0m\u001b[0mmean\u001b[0m\u001b[1;33m(\u001b[0m\u001b[0mX\u001b[0m\u001b[1;33m)\u001b[0m\u001b[1;33m)\u001b[0m\u001b[1;33m\u001b[0m\u001b[1;33m\u001b[0m\u001b[0m\n\u001b[0;32m      9\u001b[0m     \u001b[0mprint\u001b[0m\u001b[1;33m(\u001b[0m\u001b[1;34m'Std: \\t %.2f'\u001b[0m \u001b[1;33m%\u001b[0m \u001b[0mnp\u001b[0m\u001b[1;33m.\u001b[0m\u001b[0mstd\u001b[0m\u001b[1;33m(\u001b[0m\u001b[0mX\u001b[0m\u001b[1;33m)\u001b[0m\u001b[1;33m)\u001b[0m\u001b[1;33m\u001b[0m\u001b[1;33m\u001b[0m\u001b[0m\n\u001b[1;32m---> 10\u001b[1;33m     \u001b[0mprint\u001b[0m\u001b[1;33m(\u001b[0m\u001b[1;34m'Kurtosis: \\t %.2f'\u001b[0m \u001b[1;33m%\u001b[0m \u001b[0mkurtosis\u001b[0m\u001b[1;33m(\u001b[0m\u001b[0mX\u001b[0m\u001b[1;33m)\u001b[0m\u001b[1;33m)\u001b[0m\u001b[1;33m\u001b[0m\u001b[1;33m\u001b[0m\u001b[0m\n\u001b[0m\u001b[0;32m     11\u001b[0m     \u001b[0mprint\u001b[0m\u001b[1;33m(\u001b[0m\u001b[1;34m'Skew: \\t%.2f'\u001b[0m \u001b[1;33m%\u001b[0m \u001b[0mskew\u001b[0m\u001b[1;33m(\u001b[0m\u001b[0mX\u001b[0m\u001b[1;33m)\u001b[0m\u001b[1;33m)\u001b[0m\u001b[1;33m\u001b[0m\u001b[1;33m\u001b[0m\u001b[0m\n\u001b[0;32m     12\u001b[0m \u001b[1;33m\u001b[0m\u001b[0m\n",
          "\u001b[1;31mNameError\u001b[0m: name 'kurtosis' is not defined"
         ]
        }
       ]
      }
     },
     "1febfcb6b4694e5fbedc6db76a5fcab8": {
      "model_module": "@jupyter-widgets/base",
      "model_module_version": "1.2.0",
      "model_name": "LayoutModel",
      "state": {}
     },
     "20577c79b0084f42a1bed6035027ffc3": {
      "model_module": "@jupyter-widgets/base",
      "model_module_version": "1.2.0",
      "model_name": "LayoutModel",
      "state": {}
     },
     "21fab85b9393482b97ab2016c297faa8": {
      "model_module": "@jupyter-widgets/controls",
      "model_module_version": "1.5.0",
      "model_name": "SliderStyleModel",
      "state": {
       "description_width": ""
      }
     },
     "23af61a8e15f4060b0e40cb8ee36c2cc": {
      "model_module": "@jupyter-widgets/output",
      "model_module_version": "1.0.0",
      "model_name": "OutputModel",
      "state": {
       "layout": "IPY_MODEL_c4c9793e002b484aa469c080ca41d9d0",
       "outputs": [
        {
         "name": "stdout",
         "output_type": "stream",
         "text": "Mean:\t 5.34\nStd:\t 1.58\nKurtosis: -0.27\nSkew:\t -0.26\n"
        },
        {
         "data": {
          "image/png": "iVBORw0KGgoAAAANSUhEUgAAAYsAAAD4CAYAAAAdIcpQAAAAOXRFWHRTb2Z0d2FyZQBNYXRwbG90bGliIHZlcnNpb24zLjUuMCwgaHR0cHM6Ly9tYXRwbG90bGliLm9yZy8/fFQqAAAACXBIWXMAAAsTAAALEwEAmpwYAAAXJklEQVR4nO3df7RdZX3n8fdXNFDklw0xETDkR60z/DADJuO4sqQw09HSUSe4JrqywKmUklmM0gEtoFOZOl2WoCIdhKRtFAXWDKQK6dDapssfNY2AOsTojeXWdBEDAkEIaElALjHJd/7Y+8K5J/fefe7N3ff8er/Wumvfu/dzzv3mcDmfs/fz7OeJzESSpPG8rN0FSJI6n2EhSapkWEiSKhkWkqRKhoUkqdLL211AHY4//vicN29eu8uQpK7y3e9+96nMnDXasZ4Mi3nz5rF58+Z2lyFJXSUiHh7rmJehJEmVDAtJUiXDQpJUybCQJFUyLCRJlQwLSVIlw0KSVMmwkCRV6smb8qROtHfvXgYGBg7av2jRImbMmNGGiqTWGRbSNBkYGOADq+/mmBPmv7hv984d3PR+WLJkSRsrk6oZFtI0OuaE+cycd0q7y5AmzD4LSVIlw0KSVMnLUJJqNVrHvp363cewkLpIN77xNnfs26nfnQwLqYt06xuvHfvdz7CQuoxvvGoHO7glSZU8s5A0Id3Yb6JDZ1hImpBu7TfRoTEsJE2Y/Sb9xz4LSVIlw0KSVMmwkCRVMiwkSZUMC0lSJcNCklTJsJAkVTIsJEmVDAtJUqVawyIilkbE1oh4ISK2RMSZY7RbFhEPRsRQRGyMiPkNx7Lp6//WWbMk6WC1hUVEHAHcBRwNXA7MBu6MiMOa2s0B1gG7gSuANwK3Nj3dXcCK8uu6umqWJI2uzrmhzqUIiCszc00ZClcDZwNfb2i3AjgcWJWZX4qIJcB7I2JhZm4v2wwCf5WZz9VYryRpDHVehhq+lPRYuX203C6YRLuPAs9GxMMR8fbRfllErIyIzRGxedeuXYdQtqSJOLB/H4ODg9x///0vfu3du7fdZWmKTeess1Fuc4LtPgF8G5gFfBq4IyJmZ+bPGx+UmWuBtQCLFy+u+h2SpsieJx7h+oeHePW2fYBTlveqOsNiR7k9qdyeOLy/7M84kJl7x2sHkJkfHn7CiPgN4F3Aa4FtNdUtaYKOmn2yU5b3uDrDYgPwJHBJROwBLgIeAjYC+4AHgNMoOrevBa6KiNnAecA9mbk9In4TuKB8zKso+kF28VLASJKmQW1hkZlDEbEcWA3cQBEOF2fm/ohobPd4RKwAPkUx0uk7wIXl4YeB1wCfBA4DNgMfKs9IpJ7jkqXqVLX2WWTmJuD0UfZH08/rgfWjtHsAOKe2AqUO45Kl6lQuqyp1GJcsVSdyug9JUiXDQpJUybCQJFUyLCRJlQwLSVIlw0KSVMmwkCRVMiwkSZUMC0lSJcNCklTJsJAkVTIsJEmVDAtJUiXDQpJUybCQJFUyLCRJlQwLSVIlw0KSVMmwkCRVMiwkSZUMC0lSJcNCklTp5e0uQNLkHdi/j8HBwRH7Fi1axIwZM9pUkXqVYSF1sT1PPML1Dw/x6m37ANi9cwc3vR+WLFnS5spat3fvXgYGBg7ab+h1FsNC6nJHzT6ZmfNOGfXYaG/EnfYmPDAwwAdW380xJ8x/cV83hl6vMyykHtb8Rtypb8LHnDB/zMBTZ6i1gzsilkbE1oh4ISK2RMSZY7RbFhEPRsRQRGyMiPlNx2dFxFMRkRHxe3XWLPWa4TfimfNOGfHpXZqI2sIiIo4A7gKOBi4HZgN3RsRhTe3mAOuA3cAVwBuBW5ue7gbgl+qqVZI0vjrPLM6lCIg1mbkGuBmYD5zd1G4FcDiwKjNvBP4CeEtELASIiHOBdwCfqLFWSdI46gyL4fPdx8rto+V2QavtIuIo4E+BjwA/rqNISVK16ezgjnKbE2h3FfBz4CvAsnL/zIh4VWb+bMSDIlYCKwHmzp07FfVKfakbRlBp+tUZFjvK7Unl9sTh/WV/xoHM3DteO+AC4F8A2xqe98PAc8DHG39ZZq4F1gIsXry4KpAkjaFbRlBpetUZFhuAJ4FLImIPcBHwELAR2Ac8AJxG0bl9LXBVRMwGzgPuycztEXET8OXy+c4G3g/cBtxZY91S3xjtLGJwcJBj5jiUVSPVFhaZORQRy4HVFKOZHgAuzsz9EdHY7vGIWAF8CrgO+A5wYXlsM7AZoOy/APhBZv6wrrqlfjLaDXE7t97LcQvPYGYb61LnqbXPIjM3AaePsj+afl4PrK94rluAW6awPEkcfEPcMzt3jNNa/cpZZyVJlQwLSVIlw0KSVMmJBKWaNI80GhwchANtLEg6BC2FRUTcTjFf01cy03sYpBY0jzRylJG6WauXod4N/A3wWER8MiIOGuEk6WCNM76+8vgT2l2ONGmtXoYavlnuXcDvAh+KiAHgc8DnyjuxJWlKuFxs52kpLDLz6Yj4AvA0cCRwFvAG4EbgN4B31lahpL7TC8vF9ppW+yyuB84Hjgd2AauAP6MIihtrq05S3xpvuVhNv1YvQ10GfBP4E+CuzPwFQERsAK6ppzRJUqdoNSwuBf48M58CiIjDgZmZ+QjwP+sqTpLUGVodDfUZ4JyGn5cBj0x5NZKkjjTumUVEnEUxNXgAyyPiX5aHzgJ+UW9pkqROUXUZ6hzgDyhWrftP5dewr9VVlCSps1SFxRcp1qH4IvC/gHspguNnwD21ViZJ6hjjhkVm/iPwjxExH3gyM5+fnrIkSZ2kqs9iN/BbFPNC0bjCHZCZeWx9pUmSOkXVZainKTqyf0px+UmS1IeqLkMNL8z75WmoRZLUoaouQ31wnMOZmX88xfVIkjpQ1WWo6yguP8UoxxIwLCSpD1SFxW9jX4Uk9b2qPotbpqkOSVIHm9DQ2SYOnVVfa15jG1ygR73LobPSJDWvse0CPeplDp2VDsHwGttSr2t1pbxXAP+FYgbaBL4BfHZ4ESRJUm9rdfGjm4ELGn5+F/Amiv4MSVKPa3Xxo3cA64FfAX4VuBt4Z9WDImJpRGyNiBciYktEnDlGu2UR8WBEDEXExnLiQiJiVkR8PyKei4g9EfH3EXFaizVLkqZIq2GxCfhWZv4oMx8E7gP+brwHRMQRwF3A0cDlwGzgzog4rKndHGAdsBu4AngjI0dfbQD+K8X632cB17dYsyRpilQNnf3L8ttjgFURMXw28WbgmxXPfS5FQFyZmWvKULiaot/j6w3tVgCHA6sy80sRsQR4b0QszMztEfFR4JeBJyjC5EDL/zr1LIetStOrqs/i7U0/v6Xh+7MrHjs8kuqxcvtouV3AyLAYr9124HTgew1tLhvtl0XESmAlwNy5cytKU7dz2Ko0varCYn7F8YkYnl+q6n6N5nYPAm8D/jXwh8CVFNOQjJCZa4G1AIsXL/aekD7gsFVp+ozbZ5GZDw9/AY9TXC46tuFrPDvK7Unl9sTh/RFxRETMqGpX1vBsZn4lMz8OPAK8u+L3SpKmWKv3WSyj6HQ+qunQYQe3ftEG4EngkojYA1wEPARsBPZRrO19GkXn9rXAVRExGzgPuKfsr7gQ+FfA94E3AHOB+1upWZI0dVodDfVHFH0JAfwN8Azw5+M9IDOHgOXAs8ANFMGxPDP3N7V7nKKT+ziKKdG/B7yvPLwL+E3gT4H/THEn+fkt1ixJmiKt3pS3APgI8GmKIax/S3EGMK7M3ETRQd28v3kx7/UU93E0t/syTjWiKeIIKmnyWg2L54E9FJMKXgYcySghIHUyR1BJk9dqWHyN4l6HdRSXgwDuqKUiqUaOoJImp6WwyMx3A0TEyyhCIoCv1FiXJKmDTGbWWSim+jgM76aWpL4w2Vlnz8NZZyWpb9Q666wkqTe0embx4qyzABFxHy6zKqlNHAY9/eqcdVaSauEw6OlX56yzklQbh0FPr+mcdVaS1KXGDYtytlkAIuJsigWNAP66nMpDktQHWr3P4mKKyfyG53T6vYhYmZk311aZJKljtDp09krg28BbKRYi+hZwVV1FSZI6S6tDZ+cAn8rMrwFExHyKGWilnuXwTOklrYbFIPCxiBheze4i4B/qKUnqDA7PlF7Salh8CPhL4KPlzz8r90k9zeGZUqEyLMqZZndTLIF6Rrn7W5n50zoLkyR1jsqwyMwDEbEJ+GBmfn4aapIkdZhWR0P9H+DtEXFUncVIkjpTq30WvwX8EvBMRDxX7svMPLaesiRp8hzJNvVaDYtdtVYhSVPIkWxTr2rW2VcBnwT2AD8G/ntmbp2OwiTpUEz1SLZ+P1upOrNYA7yn/P404PSI+JXM/EW9ZUlSZ+n3s5WqsHgrcBdwNcVSqh8HTgEGxnuQ1I2aPzkODg66yrxG6Of7bqrC4lXAnZn5w4j4LPBH5T6poxzYv694c28w0UsEzZ8cd269l+MWnsHMKa1UnajfLzG1opUO7isi4nzgFRRLqV4TEU9RjIb6j7VWJ7VozxOPcP3DQ7x62z5g8pcIGj85PrNzx5TXqc7U75eYWtFKWJxZfg37N+XWNbjVUY6afXLfXiLQoevnS0ytcKU8SVKlce/gzsyHx/uqevKIWBoRWyPihYjYEhFnjtFuWUQ8GBFDEbGxnAKdiHhzRNwXEf9cft0VEbMm90+VJE1WqzflTVhEHEExkup54HLg94E7I+J1mbm/od0cYB3FNOhXANcAtwJnAb8KPEWx0NKvASsoJjW8sK66JfWeqRgA0e9qCwuK9bpnA1dm5poyFK4Gzga+3tBuBXA4sCozvxQRS4D3RsRC4I7MvBUgIm4v255aY82SetBUDYDoZ3WGxXB/x2Pl9tFyu4CRYTFmu8zc3tDubeV202i/LCJWAisB5s6dO8mSJfUqB0AcmjrDolmU26pRVAe1i4ilwOeB7wIfG+1BmbkWWAuwePFiR2p1Oce9S52lzrAYHqQ+vBTricP7y/6MA5m5d7x2ABFxFvDXwIPA2zLz2RprVpuMdvf06r/7J449cQHgZQOp3eoMiw3Ak8AlEbGHYt3uh4CNwD7gAYr5ptYB1wJXRcRsimlF7snM7eXoqQ0UZxufBf59RDyXmX9VY91qgzHvnvaygdQRWl38aMIycwhYDjwL3EARHMsbR0KV7R6n6Lg+DrgO+B7wvvLwG4AjKdbSWA3cAdxYV81qr+GbombOO4VXHn9Cu8uR1KDWPovM3AScPsr+aPp5PbB+lHa3ALfUVJ4kqUW1nVlIknrHdI6GkqSe0W83+hkWkjQJ/Xajn2EhSZPUTzf62WchSapkWEiSKhkWkqRKhoUkqZJhIUmqZFhIkioZFpKkSoaFJKmSN+VJUg16bQEvw0KSatC8Rku3TwdiWEhSTYbXaOkF9llIkioZFpKkSoaFJKmSYSFJqmRYSJIqGRaSpEqGhSSpkmEhSapkWEiSKhkWkqRKhoUkqZJhIUmqVGtYRMTSiNgaES9ExJaIOHOMdssi4sGIGIqIjRExv+HYnRHxs4jIiLipznolSaOrLSwi4gjgLuBo4HJgNnBnRBzW1G4OsA7YDVwBvBG4taHJC8Bf1FWnJKlanWcW51IExJrMXAPcDMwHzm5qtwI4HFiVmTdSBMNbImIhQGaeD9xWY52SpAp1hsXwpaTHyu2j5XbBJNuNKyJWRsTmiNi8a9euCRUqSRrfdHZwR7nNKWo3QmauzczFmbl41qxZEy5OkjS2OsNiR7k9qdyeOLw/Io6IiBlV7WqsTZI0AXWGxQbgSeCSiLgEuAh4CNgIPA9sKdutA/YCV0XEpcB5wD2ZuR0gIt4D/Iey7SkR8TsR8Zoa65YkNaltDe7MHIqI5cBq4AbgAeDizNwfEY3tHo+IFcCngOuA7wAXNjzVJ4CTy+/Pafh6vK7aNb69e/cyMDAwYt+iRYuYMWPGGI+Q1O1qCwuAzNwEnD7K/mj6eT2wfoznmFdLcZq0gYEBPrD6bo45oRibsHvnDm56PyxZsqTNlUmqS61hod51zAnzmTnvlHaXIWmaGBaS1AbddjnXsOgB3fZHJ6n7LucaFj2g2/7oJBW66XKuYdEjuumPTlL3cYpySVIlzyx0yA7s38fg4OBB++03kXqHYaFDtueJR7j+4SFevW3fi/vsN5F6i2HRh+oYPXXU7JPtM5F6mGHRhxw9JWmiDIs+Nd2jp7wXROpuhoWmhWczUnczLDRtvBdEGttoowo76ezbsJCkDtA8qrDTzr4NCx3E/gWpPTp5VKFhoYPYvyCpmWGhUdm/IKmRYdEHmi8rDQ4OwoE2FiSp6xgWfaD5stLOrfdy3MIzmNnmuiR1D8OiTzReVnpm5442VyOp2zhFuSSpkmEhSapkWEiSKhkWkqRKdnBPM++OltSNDItp5t3RkiZjtA+aMH0fNg2LBlPxqb+V5/DuaEkT1fxBE6b3w6Zh0WAqPvV75iCpLu38oFlrWETEUuBPgNcDDwC/k5lbRmm3DLgOOAn4NnBhZu6oOlaHqfiPMZX/Qe3jkNQJaguLiDgCuAt4Hrgc+H3gzoh4XWbub2g3B1gHDAJXANcAtwJnjXesrronqu55lzxTkTSW6Vwwqc4zi3OB2cCVmbmmfOO/Gjgb+HpDuxXA4cCqzPxSRCwB3hsRC4F3jnUsM7fXUfTuhqkwdu/cweDg+C/R4OAg197+VY6cOQeAp3/0AMfOO/XFQcnNzzE4ODih39H8hzDavqrnbD7+3FM7efnQEE+/8shJ1Vj1fHU856G293Vq7fkm85ydUEPdNU7Hv3uizwfwkwe+wx/+v2c57jU/AODnT/+E2z7+32r5MBmZOeVPChARHwQ+DZyfmbdHxErgz4CVmfnZhnafAS4FlmbmfRFxDfAR4K3AO8Y6lplfbfp9K4GV5Y+vB7ZNsvTjgacm+dhe5Osxkq/HS3wtRuqF1+PkzJw12oHp7OCOcluVTuO1G/NYZq4F1k6utIZfELE5Mxcf6vP0Cl+PkXw9XuJrMVKvvx513sE9fL50Urk9cXh/RBwRETOq2lUckyRNkzrPLDYATwKXRMQe4CLgIWAjsI9idNRpFB3Y1wJXRcRs4DzgnszcHhFjHquxbklSk9rOLDJzCFgOPAvcQBEcyxtHQpXtHqfo5D6OYojs94D3VR2r0SFfyuoxvh4j+Xq8xNdipJ5+PWrr4JYk9Q5nnZUkVTIsJEmVDItSRCyNiK0R8UJEbImIM9tdU7tExOsi4hsR8XRE7ImIr5Y3Sfa1chTftojIiLip3fW0S0QcFxG3RcQ/R8SzEbGp3TW1U0RcFhEPle8dOyLi0nbXVAfDghFTkxxNMTXJbIqpSQ5ra2HtcyLF38YfAF8Afh34XFsr6gz/g5eGcfezzwPnAzcDlwEPtrWaNoqI1wF/TDHJzweBVwCfiYjXtrWwGhgWheGpSdZk5hqK/wnmU0xN0o/uy8xfy8ybMvN3gZ8Cp7a7qHaKiDdQfJD4WJtLaauIWEAxhP0OitkUvpCZv93eqtpq+D30MeBrwE+AF4ChtlVUE8OiMDxB/GPl9tFyu6ANtbRdZu4d/j4iFgO/DPTtpYaIeBnFmdVq4P42l9Nuw9MpLwGeA56LiE+0sZ62ysxtwIeBpcAPgTMopjTa1dbCamBYjK7VqUl6WkS8Hrib4mbKnrwO26ILgXnAbbw0i8CxETHqHDo97vBy+0rgPcC9wJUR8evtK6l9yr+BS4HvA8uAAeCmiOi5y5WGRcFpRZpExCnA31Pcbf9vyxsk+9VrgVkUbwT/u9x3AbCqbRW1z0Pl9puZuR74Yvlzvw6AOIfi/WJ9Zt4NrKfo+3xzW6uqgSvlFcabmqTvlJ1zGykuP30UeFNEvCkz17W1sPb5IvAP5fenUvRb/C3Fwl79ZgvwA+DfRcTFFGdd+ynOMPrRj8rtBRHxOEXHP8A/tame2ngHdykizqK4Jj28qt/Fmbm5vVW1R0ScDXyjeX9mxkGN+0zDa7M6Mz/Q3mraIyJOpejDOQP4MfCxzLy9vVW1T7kcw6XAa4CdwKczc3V7q5p6hoUkqZJ9FpKkSoaFJKmSYSFJqmRYSJIqGRaSpEqGhSSpkmEhSar0/wHB5RYXGXwmhQAAAABJRU5ErkJggg==\n",
          "text/plain": "<Figure size 432x288 with 1 Axes>"
         },
         "metadata": {
          "needs_background": "light"
         },
         "output_type": "display_data"
        }
       ]
      }
     },
     "24cd0ecd8a2a41af9b9f88a1f9ba3f83": {
      "model_module": "@jupyter-widgets/output",
      "model_module_version": "1.0.0",
      "model_name": "OutputModel",
      "state": {
       "layout": "IPY_MODEL_6de0bb7abf9b4a38af3aa2d6e084eb12",
       "outputs": [
        {
         "name": "stdout",
         "output_type": "stream",
         "text": "Mean: 5.70\nStd: {:.2f}\n"
        },
        {
         "ename": "NameError",
         "evalue": "name 'kurtosis' is not defined",
         "output_type": "error",
         "traceback": [
          "\u001b[1;31m---------------------------------------------------------------------------\u001b[0m",
          "\u001b[1;31mNameError\u001b[0m                                 Traceback (most recent call last)",
          "\u001b[1;32mC:\\ProgramData\\Anaconda3\\envs\\NanoRad\\lib\\site-packages\\ipywidgets\\widgets\\interaction.py\u001b[0m in \u001b[0;36mupdate\u001b[1;34m(self, *args)\u001b[0m\n\u001b[0;32m    255\u001b[0m                     \u001b[0mvalue\u001b[0m \u001b[1;33m=\u001b[0m \u001b[0mwidget\u001b[0m\u001b[1;33m.\u001b[0m\u001b[0mget_interact_value\u001b[0m\u001b[1;33m(\u001b[0m\u001b[1;33m)\u001b[0m\u001b[1;33m\u001b[0m\u001b[1;33m\u001b[0m\u001b[0m\n\u001b[0;32m    256\u001b[0m                     \u001b[0mself\u001b[0m\u001b[1;33m.\u001b[0m\u001b[0mkwargs\u001b[0m\u001b[1;33m[\u001b[0m\u001b[0mwidget\u001b[0m\u001b[1;33m.\u001b[0m\u001b[0m_kwarg\u001b[0m\u001b[1;33m]\u001b[0m \u001b[1;33m=\u001b[0m \u001b[0mvalue\u001b[0m\u001b[1;33m\u001b[0m\u001b[1;33m\u001b[0m\u001b[0m\n\u001b[1;32m--> 257\u001b[1;33m                 \u001b[0mself\u001b[0m\u001b[1;33m.\u001b[0m\u001b[0mresult\u001b[0m \u001b[1;33m=\u001b[0m \u001b[0mself\u001b[0m\u001b[1;33m.\u001b[0m\u001b[0mf\u001b[0m\u001b[1;33m(\u001b[0m\u001b[1;33m**\u001b[0m\u001b[0mself\u001b[0m\u001b[1;33m.\u001b[0m\u001b[0mkwargs\u001b[0m\u001b[1;33m)\u001b[0m\u001b[1;33m\u001b[0m\u001b[1;33m\u001b[0m\u001b[0m\n\u001b[0m\u001b[0;32m    258\u001b[0m                 \u001b[0mshow_inline_matplotlib_plots\u001b[0m\u001b[1;33m(\u001b[0m\u001b[1;33m)\u001b[0m\u001b[1;33m\u001b[0m\u001b[1;33m\u001b[0m\u001b[0m\n\u001b[0;32m    259\u001b[0m                 \u001b[1;32mif\u001b[0m \u001b[0mself\u001b[0m\u001b[1;33m.\u001b[0m\u001b[0mauto_display\u001b[0m \u001b[1;32mand\u001b[0m \u001b[0mself\u001b[0m\u001b[1;33m.\u001b[0m\u001b[0mresult\u001b[0m \u001b[1;32mis\u001b[0m \u001b[1;32mnot\u001b[0m \u001b[1;32mNone\u001b[0m\u001b[1;33m:\u001b[0m\u001b[1;33m\u001b[0m\u001b[1;33m\u001b[0m\u001b[0m\n",
          "\u001b[1;32mC:\\Users\\FABIEN~1\\AppData\\Local\\Temp/ipykernel_9208/3628753627.py\u001b[0m in \u001b[0;36mplot1\u001b[1;34m(samples)\u001b[0m\n\u001b[0;32m      8\u001b[0m     \u001b[0mprint\u001b[0m\u001b[1;33m(\u001b[0m\u001b[1;34m'Mean: %.2f'\u001b[0m \u001b[1;33m%\u001b[0m \u001b[0mnp\u001b[0m\u001b[1;33m.\u001b[0m\u001b[0mmean\u001b[0m\u001b[1;33m(\u001b[0m\u001b[0mX\u001b[0m\u001b[1;33m)\u001b[0m\u001b[1;33m)\u001b[0m\u001b[1;33m\u001b[0m\u001b[1;33m\u001b[0m\u001b[0m\n\u001b[0;32m      9\u001b[0m     \u001b[0mprint\u001b[0m\u001b[1;33m(\u001b[0m\u001b[1;34m'Std: {:.2f}'\u001b[0m \u001b[1;33m%\u001b[0m \u001b[0mnp\u001b[0m\u001b[1;33m.\u001b[0m\u001b[0mstd\u001b[0m\u001b[1;33m(\u001b[0m\u001b[0mX\u001b[0m\u001b[1;33m)\u001b[0m\u001b[1;33m)\u001b[0m\u001b[1;33m\u001b[0m\u001b[1;33m\u001b[0m\u001b[0m\n\u001b[1;32m---> 10\u001b[1;33m     \u001b[0mprint\u001b[0m\u001b[1;33m(\u001b[0m\u001b[1;34m'Kurtosis: {:.2f}'\u001b[0m \u001b[1;33m%\u001b[0m \u001b[0mkurtosis\u001b[0m\u001b[1;33m(\u001b[0m\u001b[0mX\u001b[0m\u001b[1;33m)\u001b[0m\u001b[1;33m)\u001b[0m\u001b[1;33m\u001b[0m\u001b[1;33m\u001b[0m\u001b[0m\n\u001b[0m\u001b[0;32m     11\u001b[0m     \u001b[0mprint\u001b[0m\u001b[1;33m(\u001b[0m\u001b[1;34m'Skew: {:.2f}'\u001b[0m \u001b[1;33m%\u001b[0m \u001b[0mskew\u001b[0m\u001b[1;33m(\u001b[0m\u001b[0mX\u001b[0m\u001b[1;33m)\u001b[0m\u001b[1;33m)\u001b[0m\u001b[1;33m\u001b[0m\u001b[1;33m\u001b[0m\u001b[0m\n\u001b[0;32m     12\u001b[0m \u001b[1;33m\u001b[0m\u001b[0m\n",
          "\u001b[1;31mNameError\u001b[0m: name 'kurtosis' is not defined"
         ]
        }
       ]
      }
     },
     "253bc31ab7b44edf8996dd77c125717e": {
      "model_module": "@jupyter-widgets/base",
      "model_module_version": "1.2.0",
      "model_name": "LayoutModel",
      "state": {}
     },
     "266a7a64c66043f3a610e5ba9c0a54e4": {
      "model_module": "@jupyter-widgets/controls",
      "model_module_version": "1.5.0",
      "model_name": "VBoxModel",
      "state": {
       "_dom_classes": [
        "widget-interact"
       ],
       "children": [
        "IPY_MODEL_7137dbc149094da68a71f2b405378889",
        "IPY_MODEL_8216ba037d984c4dbb07c9411ded94b6",
        "IPY_MODEL_9d58908b6347428f8f6d50e53d270e06"
       ],
       "layout": "IPY_MODEL_8698b4aaa2a444b29ebeb47a1e679957"
      }
     },
     "2859641bcdaa4d19b121cc4fee226a0e": {
      "model_module": "@jupyter-widgets/controls",
      "model_module_version": "1.5.0",
      "model_name": "IntSliderModel",
      "state": {
       "description": "Samples",
       "layout": "IPY_MODEL_4dd13afb73f64c399ebb1295789b3db9",
       "max": 10000,
       "min": 10,
       "step": 100,
       "style": "IPY_MODEL_f11f3ad58bd544a8a41fb56fff0b2ffb",
       "value": 5110
      }
     },
     "2b5eaf7ee3904c80bcc90f129665f0a8": {
      "model_module": "@jupyter-widgets/base",
      "model_module_version": "1.2.0",
      "model_name": "LayoutModel",
      "state": {}
     },
     "2c8f548d1b7c44b5ad78b5e02673e603": {
      "model_module": "@jupyter-widgets/output",
      "model_module_version": "1.0.0",
      "model_name": "OutputModel",
      "state": {
       "layout": "IPY_MODEL_321f9b72609a427981e02631e2ed99ff",
       "outputs": [
        {
         "name": "stdout",
         "output_type": "stream",
         "text": "Mean:\t 5.33\nStd:\t 3.52\nKurtosis: -1.31\nSkew:\t -0.61\n \n"
        },
        {
         "data": {
          "image/png": "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\n",
          "text/plain": "<Figure size 432x288 with 1 Axes>"
         },
         "metadata": {
          "needs_background": "light"
         },
         "output_type": "display_data"
        }
       ]
      }
     },
     "2d97f290a3a1471096a548a7ca4119cf": {
      "model_module": "@jupyter-widgets/base",
      "model_module_version": "1.2.0",
      "model_name": "LayoutModel",
      "state": {}
     },
     "2e3e2fea90b94b2991c0167ad0c47106": {
      "model_module": "@jupyter-widgets/controls",
      "model_module_version": "1.5.0",
      "model_name": "IntSliderModel",
      "state": {
       "description": "samples",
       "layout": "IPY_MODEL_a170b8230ef14dd48a5a04ac75a452c0",
       "max": 300,
       "min": -100,
       "style": "IPY_MODEL_d61af069d8e2472aa279a193d839068c",
       "value": 100
      }
     },
     "310f0a8a69a741aea28c48b12a553c9f": {
      "model_module": "@jupyter-widgets/controls",
      "model_module_version": "1.5.0",
      "model_name": "SliderStyleModel",
      "state": {
       "description_width": ""
      }
     },
     "3173f9c0a36e476898b01dd091dda7e0": {
      "model_module": "@jupyter-widgets/base",
      "model_module_version": "1.2.0",
      "model_name": "LayoutModel",
      "state": {}
     },
     "321f9b72609a427981e02631e2ed99ff": {
      "model_module": "@jupyter-widgets/base",
      "model_module_version": "1.2.0",
      "model_name": "LayoutModel",
      "state": {}
     },
     "32af006b9c2a4c0680aa40c84f1a282b": {
      "model_module": "@jupyter-widgets/base",
      "model_module_version": "1.2.0",
      "model_name": "LayoutModel",
      "state": {}
     },
     "34a860fae5214796b401828b5209be45": {
      "model_module": "@jupyter-widgets/controls",
      "model_module_version": "1.5.0",
      "model_name": "IntSliderModel",
      "state": {
       "description": "Samples",
       "layout": "IPY_MODEL_01774fba24b941bea8ab03f511e111bc",
       "max": 10000,
       "min": 10,
       "step": 100,
       "style": "IPY_MODEL_141df64af0bf46368f9a36dc1a155c15",
       "value": 9910
      }
     },
     "34e2f7dcd45341c79fa2d589c4480e45": {
      "model_module": "@jupyter-widgets/output",
      "model_module_version": "1.0.0",
      "model_name": "OutputModel",
      "state": {
       "layout": "IPY_MODEL_c9b0b37735f74cd3b9ee6fe423ac4821",
       "outputs": [
        {
         "name": "stdout",
         "output_type": "stream",
         "text": "Mean: {:.2f}\nStd: {:.2f}\n"
        },
        {
         "ename": "NameError",
         "evalue": "name 'kurtosis' is not defined",
         "output_type": "error",
         "traceback": [
          "\u001b[1;31m---------------------------------------------------------------------------\u001b[0m",
          "\u001b[1;31mNameError\u001b[0m                                 Traceback (most recent call last)",
          "\u001b[1;32mC:\\ProgramData\\Anaconda3\\envs\\NanoRad\\lib\\site-packages\\ipywidgets\\widgets\\interaction.py\u001b[0m in \u001b[0;36mupdate\u001b[1;34m(self, *args)\u001b[0m\n\u001b[0;32m    255\u001b[0m                     \u001b[0mvalue\u001b[0m \u001b[1;33m=\u001b[0m \u001b[0mwidget\u001b[0m\u001b[1;33m.\u001b[0m\u001b[0mget_interact_value\u001b[0m\u001b[1;33m(\u001b[0m\u001b[1;33m)\u001b[0m\u001b[1;33m\u001b[0m\u001b[1;33m\u001b[0m\u001b[0m\n\u001b[0;32m    256\u001b[0m                     \u001b[0mself\u001b[0m\u001b[1;33m.\u001b[0m\u001b[0mkwargs\u001b[0m\u001b[1;33m[\u001b[0m\u001b[0mwidget\u001b[0m\u001b[1;33m.\u001b[0m\u001b[0m_kwarg\u001b[0m\u001b[1;33m]\u001b[0m \u001b[1;33m=\u001b[0m \u001b[0mvalue\u001b[0m\u001b[1;33m\u001b[0m\u001b[1;33m\u001b[0m\u001b[0m\n\u001b[1;32m--> 257\u001b[1;33m                 \u001b[0mself\u001b[0m\u001b[1;33m.\u001b[0m\u001b[0mresult\u001b[0m \u001b[1;33m=\u001b[0m \u001b[0mself\u001b[0m\u001b[1;33m.\u001b[0m\u001b[0mf\u001b[0m\u001b[1;33m(\u001b[0m\u001b[1;33m**\u001b[0m\u001b[0mself\u001b[0m\u001b[1;33m.\u001b[0m\u001b[0mkwargs\u001b[0m\u001b[1;33m)\u001b[0m\u001b[1;33m\u001b[0m\u001b[1;33m\u001b[0m\u001b[0m\n\u001b[0m\u001b[0;32m    258\u001b[0m                 \u001b[0mshow_inline_matplotlib_plots\u001b[0m\u001b[1;33m(\u001b[0m\u001b[1;33m)\u001b[0m\u001b[1;33m\u001b[0m\u001b[1;33m\u001b[0m\u001b[0m\n\u001b[0;32m    259\u001b[0m                 \u001b[1;32mif\u001b[0m \u001b[0mself\u001b[0m\u001b[1;33m.\u001b[0m\u001b[0mauto_display\u001b[0m \u001b[1;32mand\u001b[0m \u001b[0mself\u001b[0m\u001b[1;33m.\u001b[0m\u001b[0mresult\u001b[0m \u001b[1;32mis\u001b[0m \u001b[1;32mnot\u001b[0m \u001b[1;32mNone\u001b[0m\u001b[1;33m:\u001b[0m\u001b[1;33m\u001b[0m\u001b[1;33m\u001b[0m\u001b[0m\n",
          "\u001b[1;32mC:\\Users\\FABIEN~1\\AppData\\Local\\Temp/ipykernel_9208/78995831.py\u001b[0m in \u001b[0;36mplot1\u001b[1;34m(samples)\u001b[0m\n\u001b[0;32m      8\u001b[0m     \u001b[0mprint\u001b[0m\u001b[1;33m(\u001b[0m\u001b[1;34m'Mean: {:.2f}'\u001b[0m \u001b[1;33m%\u001b[0m \u001b[0mnp\u001b[0m\u001b[1;33m.\u001b[0m\u001b[0mmean\u001b[0m\u001b[1;33m(\u001b[0m\u001b[0mX\u001b[0m\u001b[1;33m)\u001b[0m\u001b[1;33m)\u001b[0m\u001b[1;33m\u001b[0m\u001b[1;33m\u001b[0m\u001b[0m\n\u001b[0;32m      9\u001b[0m     \u001b[0mprint\u001b[0m\u001b[1;33m(\u001b[0m\u001b[1;34m'Std: {:.2f}'\u001b[0m \u001b[1;33m%\u001b[0m \u001b[0mnp\u001b[0m\u001b[1;33m.\u001b[0m\u001b[0mstd\u001b[0m\u001b[1;33m(\u001b[0m\u001b[0mX\u001b[0m\u001b[1;33m)\u001b[0m\u001b[1;33m)\u001b[0m\u001b[1;33m\u001b[0m\u001b[1;33m\u001b[0m\u001b[0m\n\u001b[1;32m---> 10\u001b[1;33m     \u001b[0mprint\u001b[0m\u001b[1;33m(\u001b[0m\u001b[1;34m'Kurtosis: {:.2f}'\u001b[0m \u001b[1;33m%\u001b[0m \u001b[0mkurtosis\u001b[0m\u001b[1;33m(\u001b[0m\u001b[0mX\u001b[0m\u001b[1;33m)\u001b[0m\u001b[1;33m)\u001b[0m\u001b[1;33m\u001b[0m\u001b[1;33m\u001b[0m\u001b[0m\n\u001b[0m\u001b[0;32m     11\u001b[0m     \u001b[0mprint\u001b[0m\u001b[1;33m(\u001b[0m\u001b[1;34m'Skew: {:.2f}'\u001b[0m \u001b[1;33m%\u001b[0m \u001b[0mskew\u001b[0m\u001b[1;33m(\u001b[0m\u001b[0mX\u001b[0m\u001b[1;33m)\u001b[0m\u001b[1;33m)\u001b[0m\u001b[1;33m\u001b[0m\u001b[1;33m\u001b[0m\u001b[0m\n\u001b[0;32m     12\u001b[0m \u001b[1;33m\u001b[0m\u001b[0m\n",
          "\u001b[1;31mNameError\u001b[0m: name 'kurtosis' is not defined"
         ]
        }
       ]
      }
     },
     "3598dc7bc2cf402785b2c58a8e8a23f5": {
      "model_module": "@jupyter-widgets/base",
      "model_module_version": "1.2.0",
      "model_name": "LayoutModel",
      "state": {}
     },
     "361e88baff4949668b3350f32007de9d": {
      "model_module": "@jupyter-widgets/base",
      "model_module_version": "1.2.0",
      "model_name": "LayoutModel",
      "state": {}
     },
     "36d6d3afdfbc44ddbcf77f0e7bbf2cd3": {
      "model_module": "@jupyter-widgets/base",
      "model_module_version": "1.2.0",
      "model_name": "LayoutModel",
      "state": {}
     },
     "397b3dd3cec3449e933c7176ed19b7d2": {
      "model_module": "@jupyter-widgets/controls",
      "model_module_version": "1.5.0",
      "model_name": "VBoxModel",
      "state": {
       "_dom_classes": [
        "widget-interact"
       ],
       "children": [
        "IPY_MODEL_4d880d1402fb46ccbc666a43cec32d2d",
        "IPY_MODEL_c4afbc8daa2f45db885de6a4187c0cd7"
       ],
       "layout": "IPY_MODEL_6d267985d62f42bf97f6eddf6ff88d7b"
      }
     },
     "3da201a705e44834bd600917809f17c7": {
      "model_module": "@jupyter-widgets/controls",
      "model_module_version": "1.5.0",
      "model_name": "VBoxModel",
      "state": {
       "_dom_classes": [
        "widget-interact"
       ],
       "children": [
        "IPY_MODEL_574d32893ec04ea6b39b54ef5b41d83e",
        "IPY_MODEL_34e2f7dcd45341c79fa2d589c4480e45"
       ],
       "layout": "IPY_MODEL_51533aecfdd5486a8322940fd8876f86"
      }
     },
     "3ef0f8ab6023425a9f541cb6791acf8f": {
      "model_module": "@jupyter-widgets/controls",
      "model_module_version": "1.5.0",
      "model_name": "VBoxModel",
      "state": {
       "_dom_classes": [
        "widget-interact"
       ],
       "children": [
        "IPY_MODEL_ad327cb0bf1e409693cc7f085281e359",
        "IPY_MODEL_669060933aaa4748823012f07946b1e0"
       ],
       "layout": "IPY_MODEL_32af006b9c2a4c0680aa40c84f1a282b"
      }
     },
     "3ff5400c272c430ea0a27891b710ab28": {
      "model_module": "@jupyter-widgets/controls",
      "model_module_version": "1.5.0",
      "model_name": "SliderStyleModel",
      "state": {
       "description_width": ""
      }
     },
     "4082059629d44f91918dedc9848cfb15": {
      "model_module": "@jupyter-widgets/base",
      "model_module_version": "1.2.0",
      "model_name": "LayoutModel",
      "state": {}
     },
     "40cbbf089b844e3181b8f10990652acb": {
      "model_module": "@jupyter-widgets/controls",
      "model_module_version": "1.5.0",
      "model_name": "SliderStyleModel",
      "state": {
       "description_width": ""
      }
     },
     "40d070b517f34e25815de2c6e40e4f98": {
      "model_module": "@jupyter-widgets/controls",
      "model_module_version": "1.5.0",
      "model_name": "SliderStyleModel",
      "state": {
       "description_width": ""
      }
     },
     "425036bde3154d85870a7df1f7d32c5e": {
      "model_module": "@jupyter-widgets/controls",
      "model_module_version": "1.5.0",
      "model_name": "IntSliderModel",
      "state": {
       "description": "samples",
       "layout": "IPY_MODEL_a887f63bb3fc400ca343cc8e47739421",
       "max": 300,
       "min": -100,
       "style": "IPY_MODEL_5db040b14ad44ac58b134b188e2c2ac5",
       "value": 100
      }
     },
     "425b9f70a01f46a28f3426fbdb491a60": {
      "model_module": "@jupyter-widgets/controls",
      "model_module_version": "1.5.0",
      "model_name": "SliderStyleModel",
      "state": {
       "description_width": ""
      }
     },
     "45ba09e7044144f48da2b8b531950807": {
      "model_module": "@jupyter-widgets/base",
      "model_module_version": "1.2.0",
      "model_name": "LayoutModel",
      "state": {}
     },
     "49ce2d6b48074f5da7157674877138c1": {
      "model_module": "@jupyter-widgets/controls",
      "model_module_version": "1.5.0",
      "model_name": "IntSliderModel",
      "state": {
       "description": "Samples",
       "layout": "IPY_MODEL_d13a8e8e8bd14a0b95d7f01c3a170ec0",
       "max": 10000,
       "min": 100,
       "step": 100,
       "style": "IPY_MODEL_40d070b517f34e25815de2c6e40e4f98",
       "value": 7300
      }
     },
     "4ab5293175a74e45a193b8f64b445ad5": {
      "model_module": "@jupyter-widgets/controls",
      "model_module_version": "1.5.0",
      "model_name": "IntSliderModel",
      "state": {
       "description": "Trials",
       "layout": "IPY_MODEL_d0b506825bcf474c99ebb4ead63e6ba8",
       "max": 50,
       "min": 1,
       "style": "IPY_MODEL_4d982800b5e04fb180e4ad13679b51ac",
       "value": 50
      }
     },
     "4d3701236ab94e4b9c092da691b5fe50": {
      "model_module": "@jupyter-widgets/controls",
      "model_module_version": "1.5.0",
      "model_name": "VBoxModel",
      "state": {
       "_dom_classes": [
        "widget-interact"
       ],
       "children": [
        "IPY_MODEL_66284798b335449d9f3ac5c48df251bb",
        "IPY_MODEL_16d430154ae449868381a4cd6072b969"
       ],
       "layout": "IPY_MODEL_2d97f290a3a1471096a548a7ca4119cf"
      }
     },
     "4d880d1402fb46ccbc666a43cec32d2d": {
      "model_module": "@jupyter-widgets/controls",
      "model_module_version": "1.5.0",
      "model_name": "IntSliderModel",
      "state": {
       "description": "Samples",
       "layout": "IPY_MODEL_253bc31ab7b44edf8996dd77c125717e",
       "max": 1000,
       "min": 10,
       "step": 10,
       "style": "IPY_MODEL_5c1c1d4eb0c44454b6a60d91acb9dc70",
       "value": 1000
      }
     },
     "4d982800b5e04fb180e4ad13679b51ac": {
      "model_module": "@jupyter-widgets/controls",
      "model_module_version": "1.5.0",
      "model_name": "SliderStyleModel",
      "state": {
       "description_width": ""
      }
     },
     "4dd13afb73f64c399ebb1295789b3db9": {
      "model_module": "@jupyter-widgets/base",
      "model_module_version": "1.2.0",
      "model_name": "LayoutModel",
      "state": {}
     },
     "506579f4a80e48cfb0017f56070c8c34": {
      "model_module": "@jupyter-widgets/controls",
      "model_module_version": "1.5.0",
      "model_name": "VBoxModel",
      "state": {
       "_dom_classes": [
        "widget-interact"
       ],
       "children": [
        "IPY_MODEL_1462e0b5b15e4349a491f59d089efb6f",
        "IPY_MODEL_7d57923ad33d4e42a862848a0e8f3275"
       ],
       "layout": "IPY_MODEL_900d882dbc45462fa6545f353e074499"
      }
     },
     "5124cb2e46914d6c8f80ac7a2eab1016": {
      "model_module": "@jupyter-widgets/controls",
      "model_module_version": "1.5.0",
      "model_name": "SliderStyleModel",
      "state": {
       "description_width": ""
      }
     },
     "51533aecfdd5486a8322940fd8876f86": {
      "model_module": "@jupyter-widgets/base",
      "model_module_version": "1.2.0",
      "model_name": "LayoutModel",
      "state": {}
     },
     "515feab4e20f4692b4a894ed391b1627": {
      "model_module": "@jupyter-widgets/controls",
      "model_module_version": "1.5.0",
      "model_name": "IntSliderModel",
      "state": {
       "description": "Samples",
       "layout": "IPY_MODEL_cdf8e914045a4a3193e029b6d608e8f6",
       "max": 10000,
       "min": 100,
       "step": 100,
       "style": "IPY_MODEL_dd0b3a8dc9c9496b817e45e16fd2c837",
       "value": 10000
      }
     },
     "53cdd26cec1f4cdca00278f308c34c50": {
      "model_module": "@jupyter-widgets/controls",
      "model_module_version": "1.5.0",
      "model_name": "VBoxModel",
      "state": {
       "_dom_classes": [
        "widget-interact"
       ],
       "children": [
        "IPY_MODEL_425036bde3154d85870a7df1f7d32c5e",
        "IPY_MODEL_029dad6156344c85ba5cd6ba2a657c35"
       ],
       "layout": "IPY_MODEL_1febfcb6b4694e5fbedc6db76a5fcab8"
      }
     },
     "574d32893ec04ea6b39b54ef5b41d83e": {
      "model_module": "@jupyter-widgets/controls",
      "model_module_version": "1.5.0",
      "model_name": "IntSliderModel",
      "state": {
       "description": "samples",
       "layout": "IPY_MODEL_fe8e00dfca8d480eb475c91a0a81cbb8",
       "max": 300,
       "min": -100,
       "style": "IPY_MODEL_3ff5400c272c430ea0a27891b710ab28",
       "value": 216
      }
     },
     "57a1b912b3744e72a350893a60e40e5e": {
      "model_module": "@jupyter-widgets/base",
      "model_module_version": "1.2.0",
      "model_name": "LayoutModel",
      "state": {}
     },
     "59845e9eb1c846e0811000cd7f46aaf5": {
      "model_module": "@jupyter-widgets/output",
      "model_module_version": "1.0.0",
      "model_name": "OutputModel",
      "state": {
       "layout": "IPY_MODEL_0f52d89480ff4a1c8c7667ede816d3c3",
       "outputs": [
        {
         "name": "stdout",
         "output_type": "stream",
         "text": "Mean:\t 5.70\nStd:\t 3.45\nKurtosis: -1.01\nSkew:\t -0.80\n"
        },
        {
         "data": {
          "image/png": "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\n",
          "text/plain": "<Figure size 432x288 with 1 Axes>"
         },
         "metadata": {
          "needs_background": "light"
         },
         "output_type": "display_data"
        }
       ]
      }
     },
     "5c1c1d4eb0c44454b6a60d91acb9dc70": {
      "model_module": "@jupyter-widgets/controls",
      "model_module_version": "1.5.0",
      "model_name": "SliderStyleModel",
      "state": {
       "description_width": ""
      }
     },
     "5c36d0cd871042ab95952d7689a3d0fc": {
      "model_module": "@jupyter-widgets/controls",
      "model_module_version": "1.5.0",
      "model_name": "SliderStyleModel",
      "state": {
       "description_width": ""
      }
     },
     "5db040b14ad44ac58b134b188e2c2ac5": {
      "model_module": "@jupyter-widgets/controls",
      "model_module_version": "1.5.0",
      "model_name": "SliderStyleModel",
      "state": {
       "description_width": ""
      }
     },
     "5eeecdd6426d4c9883d123879484f15b": {
      "model_module": "@jupyter-widgets/output",
      "model_module_version": "1.0.0",
      "model_name": "OutputModel",
      "state": {
       "layout": "IPY_MODEL_911098f545da4c3bb3ee00f547d6f4e7",
       "outputs": [
        {
         "name": "stdout",
         "output_type": "stream",
         "text": "Mean:\t 5.33\nStd:\t 1.58\nKurtosis: -0.29\nSkew:\t -0.23\n"
        },
        {
         "data": {
          "image/png": "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\n",
          "text/plain": "<Figure size 432x288 with 1 Axes>"
         },
         "metadata": {
          "needs_background": "light"
         },
         "output_type": "display_data"
        }
       ]
      }
     },
     "605fe753e6af4d74b8e793769c5821d4": {
      "model_module": "@jupyter-widgets/base",
      "model_module_version": "1.2.0",
      "model_name": "LayoutModel",
      "state": {}
     },
     "64febb2e637b4753bec8118f6d84e4b0": {
      "model_module": "@jupyter-widgets/output",
      "model_module_version": "1.0.0",
      "model_name": "OutputModel",
      "state": {
       "layout": "IPY_MODEL_eb4febb5fd114d1ca3a396df5500e331",
       "outputs": [
        {
         "name": "stdout",
         "output_type": "stream",
         "text": "Mean:\t 5.56\nStd:\t3.40\nKurtosis:\t -1.10\nSkew:\t -0.69\n"
        },
        {
         "data": {
          "image/png": "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\n",
          "text/plain": "<Figure size 432x288 with 1 Axes>"
         },
         "metadata": {
          "needs_background": "light"
         },
         "output_type": "display_data"
        }
       ]
      }
     },
     "66284798b335449d9f3ac5c48df251bb": {
      "model_module": "@jupyter-widgets/controls",
      "model_module_version": "1.5.0",
      "model_name": "IntSliderModel",
      "state": {
       "description": "Samples",
       "layout": "IPY_MODEL_8dd5c8f281a841a4bc59ea855a6558ca",
       "max": 1000,
       "min": 10,
       "step": 10,
       "style": "IPY_MODEL_5c36d0cd871042ab95952d7689a3d0fc",
       "value": 100
      }
     },
     "669060933aaa4748823012f07946b1e0": {
      "model_module": "@jupyter-widgets/output",
      "model_module_version": "1.0.0",
      "model_name": "OutputModel",
      "state": {
       "layout": "IPY_MODEL_89644e2e75ee4746b9719b460417cc58",
       "outputs": [
        {
         "name": "stdout",
         "output_type": "stream",
         "text": "Mean:\t 5.32\nStd:\t 1.55\nKurtosis: -0.18\nSkew:\t -0.18\n"
        },
        {
         "data": {
          "image/png": "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\n",
          "text/plain": "<Figure size 432x288 with 1 Axes>"
         },
         "metadata": {
          "needs_background": "light"
         },
         "output_type": "display_data"
        }
       ]
      }
     },
     "6844fd3470344c0ba23b01b2ed3eff78": {
      "model_module": "@jupyter-widgets/base",
      "model_module_version": "1.2.0",
      "model_name": "LayoutModel",
      "state": {}
     },
     "69f991f24bbd420f9ca9a11c05f34f3e": {
      "model_module": "@jupyter-widgets/base",
      "model_module_version": "1.2.0",
      "model_name": "LayoutModel",
      "state": {}
     },
     "6cb680e076924712aa9179db4bc028e8": {
      "model_module": "@jupyter-widgets/controls",
      "model_module_version": "1.5.0",
      "model_name": "SliderStyleModel",
      "state": {
       "description_width": ""
      }
     },
     "6d267985d62f42bf97f6eddf6ff88d7b": {
      "model_module": "@jupyter-widgets/base",
      "model_module_version": "1.2.0",
      "model_name": "LayoutModel",
      "state": {}
     },
     "6de0bb7abf9b4a38af3aa2d6e084eb12": {
      "model_module": "@jupyter-widgets/base",
      "model_module_version": "1.2.0",
      "model_name": "LayoutModel",
      "state": {}
     },
     "7137dbc149094da68a71f2b405378889": {
      "model_module": "@jupyter-widgets/controls",
      "model_module_version": "1.5.0",
      "model_name": "IntSliderModel",
      "state": {
       "description": "Samples",
       "layout": "IPY_MODEL_a2b046b628e24975a0e71bfb2ca4f58d",
       "max": 10000,
       "min": 100,
       "step": 100,
       "style": "IPY_MODEL_f8225ba10e3d442db1f13acf63045609",
       "value": 10000
      }
     },
     "7238aba01ce64b63a4f80283b85c73e0": {
      "model_module": "@jupyter-widgets/output",
      "model_module_version": "1.0.0",
      "model_name": "OutputModel",
      "state": {
       "layout": "IPY_MODEL_e1114c3698c9494999812319057010e6",
       "outputs": [
        {
         "name": "stdout",
         "output_type": "stream",
         "text": "Mean:\t 5.11\nStd:\t3.56\n"
        },
        {
         "ename": "NameError",
         "evalue": "name 'kurtosis' is not defined",
         "output_type": "error",
         "traceback": [
          "\u001b[1;31m---------------------------------------------------------------------------\u001b[0m",
          "\u001b[1;31mNameError\u001b[0m                                 Traceback (most recent call last)",
          "\u001b[1;32mC:\\ProgramData\\Anaconda3\\envs\\NanoRad\\lib\\site-packages\\ipywidgets\\widgets\\interaction.py\u001b[0m in \u001b[0;36mupdate\u001b[1;34m(self, *args)\u001b[0m\n\u001b[0;32m    255\u001b[0m                     \u001b[0mvalue\u001b[0m \u001b[1;33m=\u001b[0m \u001b[0mwidget\u001b[0m\u001b[1;33m.\u001b[0m\u001b[0mget_interact_value\u001b[0m\u001b[1;33m(\u001b[0m\u001b[1;33m)\u001b[0m\u001b[1;33m\u001b[0m\u001b[1;33m\u001b[0m\u001b[0m\n\u001b[0;32m    256\u001b[0m                     \u001b[0mself\u001b[0m\u001b[1;33m.\u001b[0m\u001b[0mkwargs\u001b[0m\u001b[1;33m[\u001b[0m\u001b[0mwidget\u001b[0m\u001b[1;33m.\u001b[0m\u001b[0m_kwarg\u001b[0m\u001b[1;33m]\u001b[0m \u001b[1;33m=\u001b[0m \u001b[0mvalue\u001b[0m\u001b[1;33m\u001b[0m\u001b[1;33m\u001b[0m\u001b[0m\n\u001b[1;32m--> 257\u001b[1;33m                 \u001b[0mself\u001b[0m\u001b[1;33m.\u001b[0m\u001b[0mresult\u001b[0m \u001b[1;33m=\u001b[0m \u001b[0mself\u001b[0m\u001b[1;33m.\u001b[0m\u001b[0mf\u001b[0m\u001b[1;33m(\u001b[0m\u001b[1;33m**\u001b[0m\u001b[0mself\u001b[0m\u001b[1;33m.\u001b[0m\u001b[0mkwargs\u001b[0m\u001b[1;33m)\u001b[0m\u001b[1;33m\u001b[0m\u001b[1;33m\u001b[0m\u001b[0m\n\u001b[0m\u001b[0;32m    258\u001b[0m                 \u001b[0mshow_inline_matplotlib_plots\u001b[0m\u001b[1;33m(\u001b[0m\u001b[1;33m)\u001b[0m\u001b[1;33m\u001b[0m\u001b[1;33m\u001b[0m\u001b[0m\n\u001b[0;32m    259\u001b[0m                 \u001b[1;32mif\u001b[0m \u001b[0mself\u001b[0m\u001b[1;33m.\u001b[0m\u001b[0mauto_display\u001b[0m \u001b[1;32mand\u001b[0m \u001b[0mself\u001b[0m\u001b[1;33m.\u001b[0m\u001b[0mresult\u001b[0m \u001b[1;32mis\u001b[0m \u001b[1;32mnot\u001b[0m \u001b[1;32mNone\u001b[0m\u001b[1;33m:\u001b[0m\u001b[1;33m\u001b[0m\u001b[1;33m\u001b[0m\u001b[0m\n",
          "\u001b[1;32mC:\\Users\\FABIEN~1\\AppData\\Local\\Temp/ipykernel_9208/2032750634.py\u001b[0m in \u001b[0;36mplot1\u001b[1;34m(samples)\u001b[0m\n\u001b[0;32m      8\u001b[0m     \u001b[0mprint\u001b[0m\u001b[1;33m(\u001b[0m\u001b[1;34m'Mean:\\t %.2f'\u001b[0m \u001b[1;33m%\u001b[0m \u001b[0mnp\u001b[0m\u001b[1;33m.\u001b[0m\u001b[0mmean\u001b[0m\u001b[1;33m(\u001b[0m\u001b[0mX\u001b[0m\u001b[1;33m)\u001b[0m\u001b[1;33m)\u001b[0m\u001b[1;33m\u001b[0m\u001b[1;33m\u001b[0m\u001b[0m\n\u001b[0;32m      9\u001b[0m     \u001b[0mprint\u001b[0m\u001b[1;33m(\u001b[0m\u001b[1;34m'Std:\\t%.2f'\u001b[0m \u001b[1;33m%\u001b[0m \u001b[0mnp\u001b[0m\u001b[1;33m.\u001b[0m\u001b[0mstd\u001b[0m\u001b[1;33m(\u001b[0m\u001b[0mX\u001b[0m\u001b[1;33m)\u001b[0m\u001b[1;33m)\u001b[0m\u001b[1;33m\u001b[0m\u001b[1;33m\u001b[0m\u001b[0m\n\u001b[1;32m---> 10\u001b[1;33m     \u001b[0mprint\u001b[0m\u001b[1;33m(\u001b[0m\u001b[1;34m'Kurtosis:\\t %.2f'\u001b[0m \u001b[1;33m%\u001b[0m \u001b[0mkurtosis\u001b[0m\u001b[1;33m(\u001b[0m\u001b[0mX\u001b[0m\u001b[1;33m)\u001b[0m\u001b[1;33m)\u001b[0m\u001b[1;33m\u001b[0m\u001b[1;33m\u001b[0m\u001b[0m\n\u001b[0m\u001b[0;32m     11\u001b[0m     \u001b[0mprint\u001b[0m\u001b[1;33m(\u001b[0m\u001b[1;34m'Skew:\\t %.2f'\u001b[0m \u001b[1;33m%\u001b[0m \u001b[0mskew\u001b[0m\u001b[1;33m(\u001b[0m\u001b[0mX\u001b[0m\u001b[1;33m)\u001b[0m\u001b[1;33m)\u001b[0m\u001b[1;33m\u001b[0m\u001b[1;33m\u001b[0m\u001b[0m\n\u001b[0;32m     12\u001b[0m \u001b[1;33m\u001b[0m\u001b[0m\n",
          "\u001b[1;31mNameError\u001b[0m: name 'kurtosis' is not defined"
         ]
        }
       ]
      }
     },
     "74bcc430edbe4b58b258888ed9bee98b": {
      "model_module": "@jupyter-widgets/controls",
      "model_module_version": "1.5.0",
      "model_name": "SliderStyleModel",
      "state": {
       "description_width": ""
      }
     },
     "799fe1d795884b9686bc56c08d1e234c": {
      "model_module": "@jupyter-widgets/base",
      "model_module_version": "1.2.0",
      "model_name": "LayoutModel",
      "state": {}
     },
     "7ccf135617fb4b2187742dac22643b71": {
      "model_module": "@jupyter-widgets/controls",
      "model_module_version": "1.5.0",
      "model_name": "VBoxModel",
      "state": {
       "_dom_classes": [
        "widget-interact"
       ],
       "children": [
        "IPY_MODEL_adb9f4fa93a14665a2723abd672176fb",
        "IPY_MODEL_23af61a8e15f4060b0e40cb8ee36c2cc"
       ],
       "layout": "IPY_MODEL_f1cda8b247ff4ed9a083883e7dc98df9"
      }
     },
     "7d57923ad33d4e42a862848a0e8f3275": {
      "model_module": "@jupyter-widgets/output",
      "model_module_version": "1.0.0",
      "model_name": "OutputModel",
      "state": {
       "layout": "IPY_MODEL_fd25f51623e24b189d752a11dfbe8f04",
       "outputs": [
        {
         "name": "stdout",
         "output_type": "stream",
         "text": "Mean:\t 5.80\nStd:\t 3.51\nKurtosis: -1.09\nSkew:\t -0.75\n"
        },
        {
         "data": {
          "image/png": "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\n",
          "text/plain": "<Figure size 432x288 with 1 Axes>"
         },
         "metadata": {
          "needs_background": "light"
         },
         "output_type": "display_data"
        }
       ]
      }
     },
     "7eda4725c8144888ac800473bd1d71b4": {
      "model_module": "@jupyter-widgets/controls",
      "model_module_version": "1.5.0",
      "model_name": "IntSliderModel",
      "state": {
       "description": "samples",
       "layout": "IPY_MODEL_fcac153e97b54b79a1f88344dd1d0e5d",
       "max": 300,
       "min": -100,
       "style": "IPY_MODEL_d07392dd6fe54852a8906303910611df",
       "value": 100
      }
     },
     "808df91a58424b8f9e1b27a39dfe3457": {
      "model_module": "@jupyter-widgets/output",
      "model_module_version": "1.0.0",
      "model_name": "OutputModel",
      "state": {
       "layout": "IPY_MODEL_e3c3b1f44553452d86394c7e0678fa7f",
       "outputs": [
        {
         "name": "stdout",
         "output_type": "stream",
         "text": "Mean: 5.58\nStd: 3.39\n"
        },
        {
         "ename": "NameError",
         "evalue": "name 'kurtosis' is not defined",
         "output_type": "error",
         "traceback": [
          "\u001b[1;31m---------------------------------------------------------------------------\u001b[0m",
          "\u001b[1;31mNameError\u001b[0m                                 Traceback (most recent call last)",
          "\u001b[1;32mC:\\ProgramData\\Anaconda3\\envs\\NanoRad\\lib\\site-packages\\ipywidgets\\widgets\\interaction.py\u001b[0m in \u001b[0;36mupdate\u001b[1;34m(self, *args)\u001b[0m\n\u001b[0;32m    255\u001b[0m                     \u001b[0mvalue\u001b[0m \u001b[1;33m=\u001b[0m \u001b[0mwidget\u001b[0m\u001b[1;33m.\u001b[0m\u001b[0mget_interact_value\u001b[0m\u001b[1;33m(\u001b[0m\u001b[1;33m)\u001b[0m\u001b[1;33m\u001b[0m\u001b[1;33m\u001b[0m\u001b[0m\n\u001b[0;32m    256\u001b[0m                     \u001b[0mself\u001b[0m\u001b[1;33m.\u001b[0m\u001b[0mkwargs\u001b[0m\u001b[1;33m[\u001b[0m\u001b[0mwidget\u001b[0m\u001b[1;33m.\u001b[0m\u001b[0m_kwarg\u001b[0m\u001b[1;33m]\u001b[0m \u001b[1;33m=\u001b[0m \u001b[0mvalue\u001b[0m\u001b[1;33m\u001b[0m\u001b[1;33m\u001b[0m\u001b[0m\n\u001b[1;32m--> 257\u001b[1;33m                 \u001b[0mself\u001b[0m\u001b[1;33m.\u001b[0m\u001b[0mresult\u001b[0m \u001b[1;33m=\u001b[0m \u001b[0mself\u001b[0m\u001b[1;33m.\u001b[0m\u001b[0mf\u001b[0m\u001b[1;33m(\u001b[0m\u001b[1;33m**\u001b[0m\u001b[0mself\u001b[0m\u001b[1;33m.\u001b[0m\u001b[0mkwargs\u001b[0m\u001b[1;33m)\u001b[0m\u001b[1;33m\u001b[0m\u001b[1;33m\u001b[0m\u001b[0m\n\u001b[0m\u001b[0;32m    258\u001b[0m                 \u001b[0mshow_inline_matplotlib_plots\u001b[0m\u001b[1;33m(\u001b[0m\u001b[1;33m)\u001b[0m\u001b[1;33m\u001b[0m\u001b[1;33m\u001b[0m\u001b[0m\n\u001b[0;32m    259\u001b[0m                 \u001b[1;32mif\u001b[0m \u001b[0mself\u001b[0m\u001b[1;33m.\u001b[0m\u001b[0mauto_display\u001b[0m \u001b[1;32mand\u001b[0m \u001b[0mself\u001b[0m\u001b[1;33m.\u001b[0m\u001b[0mresult\u001b[0m \u001b[1;32mis\u001b[0m \u001b[1;32mnot\u001b[0m \u001b[1;32mNone\u001b[0m\u001b[1;33m:\u001b[0m\u001b[1;33m\u001b[0m\u001b[1;33m\u001b[0m\u001b[0m\n",
          "\u001b[1;32mC:\\Users\\FABIEN~1\\AppData\\Local\\Temp/ipykernel_9208/167631350.py\u001b[0m in \u001b[0;36mplot1\u001b[1;34m(samples)\u001b[0m\n\u001b[0;32m      8\u001b[0m     \u001b[0mprint\u001b[0m\u001b[1;33m(\u001b[0m\u001b[1;34m'Mean: %.2f'\u001b[0m \u001b[1;33m%\u001b[0m \u001b[0mnp\u001b[0m\u001b[1;33m.\u001b[0m\u001b[0mmean\u001b[0m\u001b[1;33m(\u001b[0m\u001b[0mX\u001b[0m\u001b[1;33m)\u001b[0m\u001b[1;33m)\u001b[0m\u001b[1;33m\u001b[0m\u001b[1;33m\u001b[0m\u001b[0m\n\u001b[0;32m      9\u001b[0m     \u001b[0mprint\u001b[0m\u001b[1;33m(\u001b[0m\u001b[1;34m'Std: %.2f'\u001b[0m \u001b[1;33m%\u001b[0m \u001b[0mnp\u001b[0m\u001b[1;33m.\u001b[0m\u001b[0mstd\u001b[0m\u001b[1;33m(\u001b[0m\u001b[0mX\u001b[0m\u001b[1;33m)\u001b[0m\u001b[1;33m)\u001b[0m\u001b[1;33m\u001b[0m\u001b[1;33m\u001b[0m\u001b[0m\n\u001b[1;32m---> 10\u001b[1;33m     \u001b[0mprint\u001b[0m\u001b[1;33m(\u001b[0m\u001b[1;34m'Kurtosis: %.2f'\u001b[0m \u001b[1;33m%\u001b[0m \u001b[0mkurtosis\u001b[0m\u001b[1;33m(\u001b[0m\u001b[0mX\u001b[0m\u001b[1;33m)\u001b[0m\u001b[1;33m)\u001b[0m\u001b[1;33m\u001b[0m\u001b[1;33m\u001b[0m\u001b[0m\n\u001b[0m\u001b[0;32m     11\u001b[0m     \u001b[0mprint\u001b[0m\u001b[1;33m(\u001b[0m\u001b[1;34m'Skew: %.2f'\u001b[0m \u001b[1;33m%\u001b[0m \u001b[0mskew\u001b[0m\u001b[1;33m(\u001b[0m\u001b[0mX\u001b[0m\u001b[1;33m)\u001b[0m\u001b[1;33m)\u001b[0m\u001b[1;33m\u001b[0m\u001b[1;33m\u001b[0m\u001b[0m\n\u001b[0;32m     12\u001b[0m \u001b[1;33m\u001b[0m\u001b[0m\n",
          "\u001b[1;31mNameError\u001b[0m: name 'kurtosis' is not defined"
         ]
        }
       ]
      }
     },
     "81b815b7fb46493798c5517a0f0c4b0b": {
      "model_module": "@jupyter-widgets/base",
      "model_module_version": "1.2.0",
      "model_name": "LayoutModel",
      "state": {}
     },
     "8216ba037d984c4dbb07c9411ded94b6": {
      "model_module": "@jupyter-widgets/controls",
      "model_module_version": "1.5.0",
      "model_name": "IntSliderModel",
      "state": {
       "description": "Trials",
       "layout": "IPY_MODEL_c36782de5d4a4953b4c472d625241154",
       "min": 1,
       "style": "IPY_MODEL_6cb680e076924712aa9179db4bc028e8",
       "value": 100
      }
     },
     "83e6abc489b64f1caff14a39d1150460": {
      "model_module": "@jupyter-widgets/controls",
      "model_module_version": "1.5.0",
      "model_name": "SliderStyleModel",
      "state": {
       "description_width": ""
      }
     },
     "84d30e8afde8437c99ba20f38b99b416": {
      "model_module": "@jupyter-widgets/controls",
      "model_module_version": "1.5.0",
      "model_name": "VBoxModel",
      "state": {
       "_dom_classes": [
        "widget-interact"
       ],
       "children": [
        "IPY_MODEL_9a16d65d6e2e44b8bfb13ad09d576d30",
        "IPY_MODEL_7238aba01ce64b63a4f80283b85c73e0"
       ],
       "layout": "IPY_MODEL_fc6c18e293874f4ba389f0e848c2cf72"
      }
     },
     "860ed1e1ca13475484e9330e006f2d7e": {
      "model_module": "@jupyter-widgets/controls",
      "model_module_version": "1.5.0",
      "model_name": "IntSliderModel",
      "state": {
       "description": "samples",
       "layout": "IPY_MODEL_4082059629d44f91918dedc9848cfb15",
       "max": 300,
       "min": -100,
       "style": "IPY_MODEL_425b9f70a01f46a28f3426fbdb491a60",
       "value": 100
      }
     },
     "867e4c8e0e7044a886af75303fb73bf3": {
      "model_module": "@jupyter-widgets/output",
      "model_module_version": "1.0.0",
      "model_name": "OutputModel",
      "state": {
       "layout": "IPY_MODEL_20577c79b0084f42a1bed6035027ffc3",
       "outputs": [
        {
         "name": "stdout",
         "output_type": "stream",
         "text": "Mean:\t\t 4.93\nStd:\t\t 3.54\nKurtosis:\t -1.51\nSkew:\t\t -0.38\n"
        },
        {
         "data": {
          "image/png": "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\n",
          "text/plain": "<Figure size 432x288 with 1 Axes>"
         },
         "metadata": {
          "needs_background": "light"
         },
         "output_type": "display_data"
        }
       ]
      }
     },
     "8698b4aaa2a444b29ebeb47a1e679957": {
      "model_module": "@jupyter-widgets/base",
      "model_module_version": "1.2.0",
      "model_name": "LayoutModel",
      "state": {}
     },
     "8861ae1a222546e8a441375a291e8aeb": {
      "model_module": "@jupyter-widgets/base",
      "model_module_version": "1.2.0",
      "model_name": "LayoutModel",
      "state": {}
     },
     "89644e2e75ee4746b9719b460417cc58": {
      "model_module": "@jupyter-widgets/base",
      "model_module_version": "1.2.0",
      "model_name": "LayoutModel",
      "state": {}
     },
     "8cc87008ff224ba29a515d6266e1f5d3": {
      "model_module": "@jupyter-widgets/controls",
      "model_module_version": "1.5.0",
      "model_name": "VBoxModel",
      "state": {
       "_dom_classes": [
        "widget-interact"
       ],
       "children": [
        "IPY_MODEL_2e3e2fea90b94b2991c0167ad0c47106",
        "IPY_MODEL_1e28aa080c0245559735e11df987945b"
       ],
       "layout": "IPY_MODEL_dd398613cf824d0794c01a0979282bbb"
      }
     },
     "8dd5c8f281a841a4bc59ea855a6558ca": {
      "model_module": "@jupyter-widgets/base",
      "model_module_version": "1.2.0",
      "model_name": "LayoutModel",
      "state": {}
     },
     "8e1c3303be2e407080621cd339069288": {
      "model_module": "@jupyter-widgets/controls",
      "model_module_version": "1.5.0",
      "model_name": "VBoxModel",
      "state": {
       "_dom_classes": [
        "widget-interact"
       ],
       "children": [
        "IPY_MODEL_ce8db0e6b44e4177a2a2934943902524",
        "IPY_MODEL_867e4c8e0e7044a886af75303fb73bf3"
       ],
       "layout": "IPY_MODEL_a1bd5cb9731c40d584bad395212a3afe"
      }
     },
     "8fb42811ac9b4cb5bcd28dbfc3091fda": {
      "model_module": "@jupyter-widgets/controls",
      "model_module_version": "1.5.0",
      "model_name": "SliderStyleModel",
      "state": {
       "description_width": ""
      }
     },
     "900d882dbc45462fa6545f353e074499": {
      "model_module": "@jupyter-widgets/base",
      "model_module_version": "1.2.0",
      "model_name": "LayoutModel",
      "state": {}
     },
     "911098f545da4c3bb3ee00f547d6f4e7": {
      "model_module": "@jupyter-widgets/base",
      "model_module_version": "1.2.0",
      "model_name": "LayoutModel",
      "state": {}
     },
     "9204e82fb3c94417adb0a13390093bda": {
      "model_module": "@jupyter-widgets/base",
      "model_module_version": "1.2.0",
      "model_name": "LayoutModel",
      "state": {}
     },
     "973813ce09734b3abac22097e12adb56": {
      "model_module": "@jupyter-widgets/controls",
      "model_module_version": "1.5.0",
      "model_name": "VBoxModel",
      "state": {
       "_dom_classes": [
        "widget-interact"
       ],
       "children": [
        "IPY_MODEL_34a860fae5214796b401828b5209be45",
        "IPY_MODEL_5eeecdd6426d4c9883d123879484f15b"
       ],
       "layout": "IPY_MODEL_2b5eaf7ee3904c80bcc90f129665f0a8"
      }
     },
     "9a16d65d6e2e44b8bfb13ad09d576d30": {
      "model_module": "@jupyter-widgets/controls",
      "model_module_version": "1.5.0",
      "model_name": "IntSliderModel",
      "state": {
       "description": "samples",
       "layout": "IPY_MODEL_eb65235f8eda44c38c08db3236455a70",
       "max": 300,
       "min": -100,
       "style": "IPY_MODEL_1b471718d0624450a00b64671570410c",
       "value": 100
      }
     },
     "9c08949ca26a44bea20c1bf6f8365649": {
      "model_module": "@jupyter-widgets/base",
      "model_module_version": "1.2.0",
      "model_name": "LayoutModel",
      "state": {}
     },
     "9d58908b6347428f8f6d50e53d270e06": {
      "model_module": "@jupyter-widgets/output",
      "model_module_version": "1.0.0",
      "model_name": "OutputModel",
      "state": {
       "layout": "IPY_MODEL_0228a04402034408a240e24a673b3382",
       "outputs": [
        {
         "name": "stdout",
         "output_type": "stream",
         "text": "Mean:\t 5.34\nStd:\t 0.35\nKurtosis: -0.07\nSkew:\t -0.06\n \n"
        },
        {
         "data": {
          "image/png": "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\n",
          "text/plain": "<Figure size 432x288 with 1 Axes>"
         },
         "metadata": {
          "needs_background": "light"
         },
         "output_type": "display_data"
        }
       ]
      }
     },
     "9fc2322f50634e7ca2ea488bb4eed0c0": {
      "model_module": "@jupyter-widgets/controls",
      "model_module_version": "1.5.0",
      "model_name": "IntSliderModel",
      "state": {
       "description": "Samples",
       "layout": "IPY_MODEL_f83655d2a5dd4de8875e4ced7b6b3c85",
       "max": 10000,
       "min": 100,
       "step": 100,
       "style": "IPY_MODEL_74bcc430edbe4b58b258888ed9bee98b",
       "value": 10000
      }
     },
     "a170b8230ef14dd48a5a04ac75a452c0": {
      "model_module": "@jupyter-widgets/base",
      "model_module_version": "1.2.0",
      "model_name": "LayoutModel",
      "state": {}
     },
     "a1bd5cb9731c40d584bad395212a3afe": {
      "model_module": "@jupyter-widgets/base",
      "model_module_version": "1.2.0",
      "model_name": "LayoutModel",
      "state": {}
     },
     "a2a752cac2084c01b0cc1a46a1d6205f": {
      "model_module": "@jupyter-widgets/base",
      "model_module_version": "1.2.0",
      "model_name": "LayoutModel",
      "state": {}
     },
     "a2b046b628e24975a0e71bfb2ca4f58d": {
      "model_module": "@jupyter-widgets/base",
      "model_module_version": "1.2.0",
      "model_name": "LayoutModel",
      "state": {}
     },
     "a5ff57525cf14f739d4703889de04808": {
      "model_module": "@jupyter-widgets/output",
      "model_module_version": "1.0.0",
      "model_name": "OutputModel",
      "state": {
       "layout": "IPY_MODEL_07a8be2ee57f4e089cf1003bfab26d92",
       "outputs": [
        {
         "name": "stdout",
         "output_type": "stream",
         "text": "Mean:\t 5.35\nStd:\t 0.49\nKurtosis: 0.02\nSkew:\t -0.06\n \n"
        },
        {
         "data": {
          "image/png": "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\n",
          "text/plain": "<Figure size 432x288 with 1 Axes>"
         },
         "metadata": {
          "needs_background": "light"
         },
         "output_type": "display_data"
        }
       ]
      }
     },
     "a6c443e81af54a35b6b36228143d08eb": {
      "model_module": "@jupyter-widgets/controls",
      "model_module_version": "1.5.0",
      "model_name": "VBoxModel",
      "state": {
       "_dom_classes": [
        "widget-interact"
       ],
       "children": [
        "IPY_MODEL_b7833de370654c9b85b1f834612915f0",
        "IPY_MODEL_dcfd1a84f042443e8406c19bbb955687"
       ],
       "layout": "IPY_MODEL_45ba09e7044144f48da2b8b531950807"
      }
     },
     "a887f63bb3fc400ca343cc8e47739421": {
      "model_module": "@jupyter-widgets/base",
      "model_module_version": "1.2.0",
      "model_name": "LayoutModel",
      "state": {}
     },
     "abeb795f62874cb296d60096144f08b0": {
      "model_module": "@jupyter-widgets/base",
      "model_module_version": "1.2.0",
      "model_name": "LayoutModel",
      "state": {}
     },
     "ad327cb0bf1e409693cc7f085281e359": {
      "model_module": "@jupyter-widgets/controls",
      "model_module_version": "1.5.0",
      "model_name": "IntSliderModel",
      "state": {
       "description": "samples",
       "layout": "IPY_MODEL_9204e82fb3c94417adb0a13390093bda",
       "max": 300,
       "min": -100,
       "style": "IPY_MODEL_e66779710ae042c5a7890b10ea1d31d1",
       "value": 300
      }
     },
     "adb9f4fa93a14665a2723abd672176fb": {
      "model_module": "@jupyter-widgets/controls",
      "model_module_version": "1.5.0",
      "model_name": "IntSliderModel",
      "state": {
       "description": "Samples",
       "layout": "IPY_MODEL_f680771e0c854614a30938a337bbc2c9",
       "max": 100000,
       "min": 10,
       "step": 100,
       "style": "IPY_MODEL_8fb42811ac9b4cb5bcd28dbfc3091fda",
       "value": 34810
      }
     },
     "b1ea0a55485a4dafa2c965a7b2adad41": {
      "model_module": "@jupyter-widgets/controls",
      "model_module_version": "1.5.0",
      "model_name": "VBoxModel",
      "state": {
       "_dom_classes": [
        "widget-interact"
       ],
       "children": [
        "IPY_MODEL_515feab4e20f4692b4a894ed391b1627",
        "IPY_MODEL_ec1d40efef0f43168be8f26d3388b1e0",
        "IPY_MODEL_2c8f548d1b7c44b5ad78b5e02673e603"
       ],
       "layout": "IPY_MODEL_6844fd3470344c0ba23b01b2ed3eff78"
      }
     },
     "b7833de370654c9b85b1f834612915f0": {
      "model_module": "@jupyter-widgets/controls",
      "model_module_version": "1.5.0",
      "model_name": "IntSliderModel",
      "state": {
       "description": "Samples",
       "layout": "IPY_MODEL_15faea5bb3454345a12aadd7f83943f1",
       "max": 10000,
       "min": 100,
       "step": 100,
       "style": "IPY_MODEL_c3bbe1d19ed745609afc471fa708e242",
       "value": 10000
      }
     },
     "b7992f09e17848e5a771bfbddf83725d": {
      "model_module": "@jupyter-widgets/base",
      "model_module_version": "1.2.0",
      "model_name": "LayoutModel",
      "state": {}
     },
     "ba7ae52e841b4cc9874cc61ff9cc55c0": {
      "model_module": "@jupyter-widgets/controls",
      "model_module_version": "1.5.0",
      "model_name": "VBoxModel",
      "state": {
       "_dom_classes": [
        "widget-interact"
       ],
       "children": [
        "IPY_MODEL_d269f9f96e5d484db56e2279d158dcf5",
        "IPY_MODEL_59845e9eb1c846e0811000cd7f46aaf5"
       ],
       "layout": "IPY_MODEL_f9f56002e70643c3b3b77d3cab1a1b66"
      }
     },
     "bd261c664f27493197029b0d2297592e": {
      "model_module": "@jupyter-widgets/base",
      "model_module_version": "1.2.0",
      "model_name": "LayoutModel",
      "state": {}
     },
     "bd2dc5fa5e70436aad2ae5c2a6938ed3": {
      "model_module": "@jupyter-widgets/base",
      "model_module_version": "1.2.0",
      "model_name": "LayoutModel",
      "state": {}
     },
     "be18db9b1a604dc4a7cd0369988d7dcc": {
      "model_module": "@jupyter-widgets/output",
      "model_module_version": "1.0.0",
      "model_name": "OutputModel",
      "state": {
       "layout": "IPY_MODEL_9c08949ca26a44bea20c1bf6f8365649",
       "outputs": [
        {
         "name": "stdout",
         "output_type": "stream",
         "text": "Mean:\t 5.32\nStd:\t 1.58\nKurtosis: -0.22\nSkew:\t -0.28\n"
        },
        {
         "data": {
          "image/png": "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\n",
          "text/plain": "<Figure size 432x288 with 1 Axes>"
         },
         "metadata": {
          "needs_background": "light"
         },
         "output_type": "display_data"
        }
       ]
      }
     },
     "c36782de5d4a4953b4c472d625241154": {
      "model_module": "@jupyter-widgets/base",
      "model_module_version": "1.2.0",
      "model_name": "LayoutModel",
      "state": {}
     },
     "c3bbe1d19ed745609afc471fa708e242": {
      "model_module": "@jupyter-widgets/controls",
      "model_module_version": "1.5.0",
      "model_name": "SliderStyleModel",
      "state": {
       "description_width": ""
      }
     },
     "c4afbc8daa2f45db885de6a4187c0cd7": {
      "model_module": "@jupyter-widgets/output",
      "model_module_version": "1.0.0",
      "model_name": "OutputModel",
      "state": {
       "layout": "IPY_MODEL_361e88baff4949668b3350f32007de9d",
       "outputs": [
        {
         "name": "stdout",
         "output_type": "stream",
         "text": "Mean:\t 5.30\nStd:\t 1.58\nKurtosis: -0.29\nSkew:\t -0.27\n"
        },
        {
         "data": {
          "image/png": "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\n",
          "text/plain": "<Figure size 432x288 with 1 Axes>"
         },
         "metadata": {
          "needs_background": "light"
         },
         "output_type": "display_data"
        }
       ]
      }
     },
     "c4c9509d60a2401eaeaec238f444179d": {
      "model_module": "@jupyter-widgets/controls",
      "model_module_version": "1.5.0",
      "model_name": "IntSliderModel",
      "state": {
       "description": "samples",
       "layout": "IPY_MODEL_d1a95d58726b4930a2e5c5495c4c5002",
       "max": 300,
       "min": -100,
       "style": "IPY_MODEL_5124cb2e46914d6c8f80ac7a2eab1016",
       "value": 100
      }
     },
     "c4c9793e002b484aa469c080ca41d9d0": {
      "model_module": "@jupyter-widgets/base",
      "model_module_version": "1.2.0",
      "model_name": "LayoutModel",
      "state": {}
     },
     "c9b0b37735f74cd3b9ee6fe423ac4821": {
      "model_module": "@jupyter-widgets/base",
      "model_module_version": "1.2.0",
      "model_name": "LayoutModel",
      "state": {}
     },
     "cd01361e8c264baeab00f2de52e76051": {
      "model_module": "@jupyter-widgets/output",
      "model_module_version": "1.0.0",
      "model_name": "OutputModel",
      "state": {
       "layout": "IPY_MODEL_3173f9c0a36e476898b01dd091dda7e0",
       "outputs": [
        {
         "ename": "UnboundLocalError",
         "evalue": "local variable 's' referenced before assignment",
         "output_type": "error",
         "traceback": [
          "\u001b[1;31m---------------------------------------------------------------------------\u001b[0m",
          "\u001b[1;31mUnboundLocalError\u001b[0m                         Traceback (most recent call last)",
          "\u001b[1;32mC:\\ProgramData\\Anaconda3\\envs\\NanoRad\\lib\\site-packages\\ipywidgets\\widgets\\interaction.py\u001b[0m in \u001b[0;36mupdate\u001b[1;34m(self, *args)\u001b[0m\n\u001b[0;32m    255\u001b[0m                     \u001b[0mvalue\u001b[0m \u001b[1;33m=\u001b[0m \u001b[0mwidget\u001b[0m\u001b[1;33m.\u001b[0m\u001b[0mget_interact_value\u001b[0m\u001b[1;33m(\u001b[0m\u001b[1;33m)\u001b[0m\u001b[1;33m\u001b[0m\u001b[1;33m\u001b[0m\u001b[0m\n\u001b[0;32m    256\u001b[0m                     \u001b[0mself\u001b[0m\u001b[1;33m.\u001b[0m\u001b[0mkwargs\u001b[0m\u001b[1;33m[\u001b[0m\u001b[0mwidget\u001b[0m\u001b[1;33m.\u001b[0m\u001b[0m_kwarg\u001b[0m\u001b[1;33m]\u001b[0m \u001b[1;33m=\u001b[0m \u001b[0mvalue\u001b[0m\u001b[1;33m\u001b[0m\u001b[1;33m\u001b[0m\u001b[0m\n\u001b[1;32m--> 257\u001b[1;33m                 \u001b[0mself\u001b[0m\u001b[1;33m.\u001b[0m\u001b[0mresult\u001b[0m \u001b[1;33m=\u001b[0m \u001b[0mself\u001b[0m\u001b[1;33m.\u001b[0m\u001b[0mf\u001b[0m\u001b[1;33m(\u001b[0m\u001b[1;33m**\u001b[0m\u001b[0mself\u001b[0m\u001b[1;33m.\u001b[0m\u001b[0mkwargs\u001b[0m\u001b[1;33m)\u001b[0m\u001b[1;33m\u001b[0m\u001b[1;33m\u001b[0m\u001b[0m\n\u001b[0m\u001b[0;32m    258\u001b[0m                 \u001b[0mshow_inline_matplotlib_plots\u001b[0m\u001b[1;33m(\u001b[0m\u001b[1;33m)\u001b[0m\u001b[1;33m\u001b[0m\u001b[1;33m\u001b[0m\u001b[0m\n\u001b[0;32m    259\u001b[0m                 \u001b[1;32mif\u001b[0m \u001b[0mself\u001b[0m\u001b[1;33m.\u001b[0m\u001b[0mauto_display\u001b[0m \u001b[1;32mand\u001b[0m \u001b[0mself\u001b[0m\u001b[1;33m.\u001b[0m\u001b[0mresult\u001b[0m \u001b[1;32mis\u001b[0m \u001b[1;32mnot\u001b[0m \u001b[1;32mNone\u001b[0m\u001b[1;33m:\u001b[0m\u001b[1;33m\u001b[0m\u001b[1;33m\u001b[0m\u001b[0m\n",
          "\u001b[1;32mC:\\Users\\FABIEN~1\\AppData\\Local\\Temp/ipykernel_9208/2940256928.py\u001b[0m in \u001b[0;36mplot1\u001b[1;34m(samples)\u001b[0m\n\u001b[0;32m      6\u001b[0m     \u001b[1;32mfor\u001b[0m \u001b[0mi\u001b[0m \u001b[1;32min\u001b[0m \u001b[0mrange\u001b[0m\u001b[1;33m(\u001b[0m\u001b[0msamples\u001b[0m\u001b[1;33m)\u001b[0m\u001b[1;33m:\u001b[0m\u001b[1;33m\u001b[0m\u001b[1;33m\u001b[0m\u001b[0m\n\u001b[0;32m      7\u001b[0m         \u001b[0mrs\u001b[0m\u001b[1;33m.\u001b[0m\u001b[0mappend\u001b[0m\u001b[1;33m(\u001b[0m\u001b[0mnp\u001b[0m\u001b[1;33m.\u001b[0m\u001b[0mrandom\u001b[0m\u001b[1;33m.\u001b[0m\u001b[0mchoice\u001b[0m\u001b[1;33m(\u001b[0m\u001b[0melements\u001b[0m\u001b[1;33m,\u001b[0m \u001b[1;36m5\u001b[0m\u001b[1;33m,\u001b[0m \u001b[0mp\u001b[0m\u001b[1;33m=\u001b[0m\u001b[0mprobabilities\u001b[0m\u001b[1;33m)\u001b[0m\u001b[1;33m)\u001b[0m\u001b[1;33m\u001b[0m\u001b[1;33m\u001b[0m\u001b[0m\n\u001b[1;32m----> 8\u001b[1;33m     \u001b[0ms\u001b[0m \u001b[1;33m=\u001b[0m \u001b[0mnp\u001b[0m\u001b[1;33m.\u001b[0m\u001b[0mmean\u001b[0m\u001b[1;33m(\u001b[0m\u001b[0mnp\u001b[0m\u001b[1;33m.\u001b[0m\u001b[0masarray\u001b[0m\u001b[1;33m(\u001b[0m\u001b[0ms\u001b[0m\u001b[1;33m)\u001b[0m\u001b[1;33m,\u001b[0m \u001b[0maxis\u001b[0m\u001b[1;33m=\u001b[0m\u001b[1;36m1\u001b[0m\u001b[1;33m)\u001b[0m\u001b[1;33m\u001b[0m\u001b[1;33m\u001b[0m\u001b[0m\n\u001b[0m\u001b[0;32m      9\u001b[0m \u001b[1;33m\u001b[0m\u001b[0m\n\u001b[0;32m     10\u001b[0m     \u001b[0msns\u001b[0m\u001b[1;33m.\u001b[0m\u001b[0mhistplot\u001b[0m\u001b[1;33m(\u001b[0m\u001b[0ms\u001b[0m\u001b[1;33m,\u001b[0m \u001b[0mstat\u001b[0m\u001b[1;33m=\u001b[0m\u001b[1;34m'probability'\u001b[0m\u001b[1;33m)\u001b[0m\u001b[1;33m\u001b[0m\u001b[1;33m\u001b[0m\u001b[0m\n",
          "\u001b[1;31mUnboundLocalError\u001b[0m: local variable 's' referenced before assignment"
         ]
        }
       ]
      }
     },
     "cdf8e914045a4a3193e029b6d608e8f6": {
      "model_module": "@jupyter-widgets/base",
      "model_module_version": "1.2.0",
      "model_name": "LayoutModel",
      "state": {}
     },
     "ce8db0e6b44e4177a2a2934943902524": {
      "model_module": "@jupyter-widgets/controls",
      "model_module_version": "1.5.0",
      "model_name": "IntSliderModel",
      "state": {
       "description": "samples",
       "layout": "IPY_MODEL_3598dc7bc2cf402785b2c58a8e8a23f5",
       "max": 300,
       "min": -100,
       "style": "IPY_MODEL_83e6abc489b64f1caff14a39d1150460",
       "value": 100
      }
     },
     "cea0c84701d04d95954ee3cef3ea0d09": {
      "model_module": "@jupyter-widgets/base",
      "model_module_version": "1.2.0",
      "model_name": "LayoutModel",
      "state": {}
     },
     "d07392dd6fe54852a8906303910611df": {
      "model_module": "@jupyter-widgets/controls",
      "model_module_version": "1.5.0",
      "model_name": "SliderStyleModel",
      "state": {
       "description_width": ""
      }
     },
     "d0b506825bcf474c99ebb4ead63e6ba8": {
      "model_module": "@jupyter-widgets/base",
      "model_module_version": "1.2.0",
      "model_name": "LayoutModel",
      "state": {}
     },
     "d1085b8a20a24ec1af288d3cc6af21d7": {
      "model_module": "@jupyter-widgets/output",
      "model_module_version": "1.0.0",
      "model_name": "OutputModel",
      "state": {
       "layout": "IPY_MODEL_57a1b912b3744e72a350893a60e40e5e",
       "outputs": [
        {
         "ename": "ValueError",
         "evalue": "unsupported format character 'n' (0x6e) at index 9",
         "output_type": "error",
         "traceback": [
          "\u001b[1;31m---------------------------------------------------------------------------\u001b[0m",
          "\u001b[1;31mValueError\u001b[0m                                Traceback (most recent call last)",
          "\u001b[1;32mC:\\ProgramData\\Anaconda3\\envs\\NanoRad\\lib\\site-packages\\ipywidgets\\widgets\\interaction.py\u001b[0m in \u001b[0;36mupdate\u001b[1;34m(self, *args)\u001b[0m\n\u001b[0;32m    255\u001b[0m                     \u001b[0mvalue\u001b[0m \u001b[1;33m=\u001b[0m \u001b[0mwidget\u001b[0m\u001b[1;33m.\u001b[0m\u001b[0mget_interact_value\u001b[0m\u001b[1;33m(\u001b[0m\u001b[1;33m)\u001b[0m\u001b[1;33m\u001b[0m\u001b[1;33m\u001b[0m\u001b[0m\n\u001b[0;32m    256\u001b[0m                     \u001b[0mself\u001b[0m\u001b[1;33m.\u001b[0m\u001b[0mkwargs\u001b[0m\u001b[1;33m[\u001b[0m\u001b[0mwidget\u001b[0m\u001b[1;33m.\u001b[0m\u001b[0m_kwarg\u001b[0m\u001b[1;33m]\u001b[0m \u001b[1;33m=\u001b[0m \u001b[0mvalue\u001b[0m\u001b[1;33m\u001b[0m\u001b[1;33m\u001b[0m\u001b[0m\n\u001b[1;32m--> 257\u001b[1;33m                 \u001b[0mself\u001b[0m\u001b[1;33m.\u001b[0m\u001b[0mresult\u001b[0m \u001b[1;33m=\u001b[0m \u001b[0mself\u001b[0m\u001b[1;33m.\u001b[0m\u001b[0mf\u001b[0m\u001b[1;33m(\u001b[0m\u001b[1;33m**\u001b[0m\u001b[0mself\u001b[0m\u001b[1;33m.\u001b[0m\u001b[0mkwargs\u001b[0m\u001b[1;33m)\u001b[0m\u001b[1;33m\u001b[0m\u001b[1;33m\u001b[0m\u001b[0m\n\u001b[0m\u001b[0;32m    258\u001b[0m                 \u001b[0mshow_inline_matplotlib_plots\u001b[0m\u001b[1;33m(\u001b[0m\u001b[1;33m)\u001b[0m\u001b[1;33m\u001b[0m\u001b[1;33m\u001b[0m\u001b[0m\n\u001b[0;32m    259\u001b[0m                 \u001b[1;32mif\u001b[0m \u001b[0mself\u001b[0m\u001b[1;33m.\u001b[0m\u001b[0mauto_display\u001b[0m \u001b[1;32mand\u001b[0m \u001b[0mself\u001b[0m\u001b[1;33m.\u001b[0m\u001b[0mresult\u001b[0m \u001b[1;32mis\u001b[0m \u001b[1;32mnot\u001b[0m \u001b[1;32mNone\u001b[0m\u001b[1;33m:\u001b[0m\u001b[1;33m\u001b[0m\u001b[1;33m\u001b[0m\u001b[0m\n",
          "\u001b[1;32mC:\\Users\\FABIEN~1\\AppData\\Local\\Temp/ipykernel_9208/610667537.py\u001b[0m in \u001b[0;36mplot1\u001b[1;34m(samples)\u001b[0m\n\u001b[0;32m      6\u001b[0m     \u001b[0msns\u001b[0m\u001b[1;33m.\u001b[0m\u001b[0mhistplot\u001b[0m\u001b[1;33m(\u001b[0m\u001b[0mX\u001b[0m\u001b[1;33m,\u001b[0m \u001b[0mstat\u001b[0m\u001b[1;33m=\u001b[0m\u001b[1;34m'probability'\u001b[0m\u001b[1;33m)\u001b[0m\u001b[1;33m\u001b[0m\u001b[1;33m\u001b[0m\u001b[0m\n\u001b[0;32m      7\u001b[0m \u001b[1;33m\u001b[0m\u001b[0m\n\u001b[1;32m----> 8\u001b[1;33m     \u001b[0mprint\u001b[0m\u001b[1;33m(\u001b[0m\u001b[1;34m'Mean: %.2n'\u001b[0m \u001b[1;33m%\u001b[0m \u001b[0mnp\u001b[0m\u001b[1;33m.\u001b[0m\u001b[0mmean\u001b[0m\u001b[1;33m(\u001b[0m\u001b[0mX\u001b[0m\u001b[1;33m)\u001b[0m\u001b[1;33m)\u001b[0m\u001b[1;33m\u001b[0m\u001b[1;33m\u001b[0m\u001b[0m\n\u001b[0m\u001b[0;32m      9\u001b[0m     \u001b[0mprint\u001b[0m\u001b[1;33m(\u001b[0m\u001b[1;34m'Std: {:.2f}'\u001b[0m \u001b[1;33m%\u001b[0m \u001b[0mnp\u001b[0m\u001b[1;33m.\u001b[0m\u001b[0mstd\u001b[0m\u001b[1;33m(\u001b[0m\u001b[0mX\u001b[0m\u001b[1;33m)\u001b[0m\u001b[1;33m)\u001b[0m\u001b[1;33m\u001b[0m\u001b[1;33m\u001b[0m\u001b[0m\n\u001b[0;32m     10\u001b[0m     \u001b[0mprint\u001b[0m\u001b[1;33m(\u001b[0m\u001b[1;34m'Kurtosis: {:.2f}'\u001b[0m \u001b[1;33m%\u001b[0m \u001b[0mkurtosis\u001b[0m\u001b[1;33m(\u001b[0m\u001b[0mX\u001b[0m\u001b[1;33m)\u001b[0m\u001b[1;33m)\u001b[0m\u001b[1;33m\u001b[0m\u001b[1;33m\u001b[0m\u001b[0m\n",
          "\u001b[1;31mValueError\u001b[0m: unsupported format character 'n' (0x6e) at index 9"
         ]
        }
       ]
      }
     },
     "d13a8e8e8bd14a0b95d7f01c3a170ec0": {
      "model_module": "@jupyter-widgets/base",
      "model_module_version": "1.2.0",
      "model_name": "LayoutModel",
      "state": {}
     },
     "d14e8b285e614914b44c985c033ef12c": {
      "model_module": "@jupyter-widgets/controls",
      "model_module_version": "1.5.0",
      "model_name": "VBoxModel",
      "state": {
       "_dom_classes": [
        "widget-interact"
       ],
       "children": [
        "IPY_MODEL_49ce2d6b48074f5da7157674877138c1",
        "IPY_MODEL_4ab5293175a74e45a193b8f64b445ad5",
        "IPY_MODEL_a5ff57525cf14f739d4703889de04808"
       ],
       "layout": "IPY_MODEL_81b815b7fb46493798c5517a0f0c4b0b"
      }
     },
     "d1a95d58726b4930a2e5c5495c4c5002": {
      "model_module": "@jupyter-widgets/base",
      "model_module_version": "1.2.0",
      "model_name": "LayoutModel",
      "state": {}
     },
     "d269f9f96e5d484db56e2279d158dcf5": {
      "model_module": "@jupyter-widgets/controls",
      "model_module_version": "1.5.0",
      "model_name": "IntSliderModel",
      "state": {
       "description": "samples",
       "layout": "IPY_MODEL_8861ae1a222546e8a441375a291e8aeb",
       "max": 300,
       "min": -100,
       "style": "IPY_MODEL_21fab85b9393482b97ab2016c297faa8",
       "value": 213
      }
     },
     "d486506fd1ba4d8bb8576f694b34cd88": {
      "model_module": "@jupyter-widgets/base",
      "model_module_version": "1.2.0",
      "model_name": "LayoutModel",
      "state": {}
     },
     "d61af069d8e2472aa279a193d839068c": {
      "model_module": "@jupyter-widgets/controls",
      "model_module_version": "1.5.0",
      "model_name": "SliderStyleModel",
      "state": {
       "description_width": ""
      }
     },
     "d808a927ef26407fa43ded4539013978": {
      "model_module": "@jupyter-widgets/base",
      "model_module_version": "1.2.0",
      "model_name": "LayoutModel",
      "state": {}
     },
     "dce6c9dace104d94bb5206cedf090d81": {
      "model_module": "@jupyter-widgets/controls",
      "model_module_version": "1.5.0",
      "model_name": "VBoxModel",
      "state": {
       "_dom_classes": [
        "widget-interact"
       ],
       "children": [
        "IPY_MODEL_2859641bcdaa4d19b121cc4fee226a0e",
        "IPY_MODEL_142d207b6fce42a0ae600f764d82a0c1"
       ],
       "layout": "IPY_MODEL_a2a752cac2084c01b0cc1a46a1d6205f"
      }
     },
     "dcfd1a84f042443e8406c19bbb955687": {
      "model_module": "@jupyter-widgets/output",
      "model_module_version": "1.0.0",
      "model_name": "OutputModel",
      "state": {
       "layout": "IPY_MODEL_cea0c84701d04d95954ee3cef3ea0d09",
       "outputs": [
        {
         "name": "stdout",
         "output_type": "stream",
         "text": "Mean:\t 5.35\nStd:\t 1.59\nKurtosis: -0.28\nSkew:\t -0.29\n \n"
        },
        {
         "data": {
          "image/png": "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\n",
          "text/plain": "<Figure size 432x288 with 1 Axes>"
         },
         "metadata": {
          "needs_background": "light"
         },
         "output_type": "display_data"
        }
       ]
      }
     },
     "dd0b3a8dc9c9496b817e45e16fd2c837": {
      "model_module": "@jupyter-widgets/controls",
      "model_module_version": "1.5.0",
      "model_name": "SliderStyleModel",
      "state": {
       "description_width": ""
      }
     },
     "dd398613cf824d0794c01a0979282bbb": {
      "model_module": "@jupyter-widgets/base",
      "model_module_version": "1.2.0",
      "model_name": "LayoutModel",
      "state": {}
     },
     "e1114c3698c9494999812319057010e6": {
      "model_module": "@jupyter-widgets/base",
      "model_module_version": "1.2.0",
      "model_name": "LayoutModel",
      "state": {}
     },
     "e3c3b1f44553452d86394c7e0678fa7f": {
      "model_module": "@jupyter-widgets/base",
      "model_module_version": "1.2.0",
      "model_name": "LayoutModel",
      "state": {}
     },
     "e66779710ae042c5a7890b10ea1d31d1": {
      "model_module": "@jupyter-widgets/controls",
      "model_module_version": "1.5.0",
      "model_name": "SliderStyleModel",
      "state": {
       "description_width": ""
      }
     },
     "e8147a6cb8d84336b44fabb19ddd5dc9": {
      "model_module": "@jupyter-widgets/controls",
      "model_module_version": "1.5.0",
      "model_name": "VBoxModel",
      "state": {
       "_dom_classes": [
        "widget-interact"
       ],
       "children": [
        "IPY_MODEL_7eda4725c8144888ac800473bd1d71b4",
        "IPY_MODEL_808df91a58424b8f9e1b27a39dfe3457"
       ],
       "layout": "IPY_MODEL_ed1e6a47cc0e4b918c65822878dcf90a"
      }
     },
     "eb4febb5fd114d1ca3a396df5500e331": {
      "model_module": "@jupyter-widgets/base",
      "model_module_version": "1.2.0",
      "model_name": "LayoutModel",
      "state": {}
     },
     "eb65235f8eda44c38c08db3236455a70": {
      "model_module": "@jupyter-widgets/base",
      "model_module_version": "1.2.0",
      "model_name": "LayoutModel",
      "state": {}
     },
     "ec1d40efef0f43168be8f26d3388b1e0": {
      "model_module": "@jupyter-widgets/controls",
      "model_module_version": "1.5.0",
      "model_name": "IntSliderModel",
      "state": {
       "description": "Trials",
       "layout": "IPY_MODEL_bd261c664f27493197029b0d2297592e",
       "min": 1,
       "style": "IPY_MODEL_310f0a8a69a741aea28c48b12a553c9f",
       "value": 1
      }
     },
     "ed1e6a47cc0e4b918c65822878dcf90a": {
      "model_module": "@jupyter-widgets/base",
      "model_module_version": "1.2.0",
      "model_name": "LayoutModel",
      "state": {}
     },
     "ef1c67e6a0bb4c8fac953462f05d4392": {
      "model_module": "@jupyter-widgets/controls",
      "model_module_version": "1.5.0",
      "model_name": "SliderStyleModel",
      "state": {
       "description_width": ""
      }
     },
     "ef22a427fe77492b82fdd6470a53f66f": {
      "model_module": "@jupyter-widgets/controls",
      "model_module_version": "1.5.0",
      "model_name": "VBoxModel",
      "state": {
       "_dom_classes": [
        "widget-interact"
       ],
       "children": [
        "IPY_MODEL_860ed1e1ca13475484e9330e006f2d7e",
        "IPY_MODEL_cd01361e8c264baeab00f2de52e76051"
       ],
       "layout": "IPY_MODEL_36d6d3afdfbc44ddbcf77f0e7bbf2cd3"
      }
     },
     "f11f3ad58bd544a8a41fb56fff0b2ffb": {
      "model_module": "@jupyter-widgets/controls",
      "model_module_version": "1.5.0",
      "model_name": "SliderStyleModel",
      "state": {
       "description_width": ""
      }
     },
     "f171e8af6a5f447da95b19ac59f9d1d4": {
      "model_module": "@jupyter-widgets/controls",
      "model_module_version": "1.5.0",
      "model_name": "VBoxModel",
      "state": {
       "_dom_classes": [
        "widget-interact"
       ],
       "children": [
        "IPY_MODEL_0b760a5afec64e069f8e20a454dcd81b",
        "IPY_MODEL_24cd0ecd8a2a41af9b9f88a1f9ba3f83"
       ],
       "layout": "IPY_MODEL_d808a927ef26407fa43ded4539013978"
      }
     },
     "f1cda8b247ff4ed9a083883e7dc98df9": {
      "model_module": "@jupyter-widgets/base",
      "model_module_version": "1.2.0",
      "model_name": "LayoutModel",
      "state": {}
     },
     "f6420efd7f6e4a588eb1786d074dfe1f": {
      "model_module": "@jupyter-widgets/controls",
      "model_module_version": "1.5.0",
      "model_name": "VBoxModel",
      "state": {
       "_dom_classes": [
        "widget-interact"
       ],
       "children": [
        "IPY_MODEL_c4c9509d60a2401eaeaec238f444179d",
        "IPY_MODEL_64febb2e637b4753bec8118f6d84e4b0"
       ],
       "layout": "IPY_MODEL_799fe1d795884b9686bc56c08d1e234c"
      }
     },
     "f680771e0c854614a30938a337bbc2c9": {
      "model_module": "@jupyter-widgets/base",
      "model_module_version": "1.2.0",
      "model_name": "LayoutModel",
      "state": {}
     },
     "f8225ba10e3d442db1f13acf63045609": {
      "model_module": "@jupyter-widgets/controls",
      "model_module_version": "1.5.0",
      "model_name": "SliderStyleModel",
      "state": {
       "description_width": ""
      }
     },
     "f83655d2a5dd4de8875e4ced7b6b3c85": {
      "model_module": "@jupyter-widgets/base",
      "model_module_version": "1.2.0",
      "model_name": "LayoutModel",
      "state": {}
     },
     "f8ba98749b3943fb8580b34a307e1e98": {
      "model_module": "@jupyter-widgets/base",
      "model_module_version": "1.2.0",
      "model_name": "LayoutModel",
      "state": {}
     },
     "f963b84bdea241e0be4cceca1fd6cf5d": {
      "model_module": "@jupyter-widgets/controls",
      "model_module_version": "1.5.0",
      "model_name": "SliderStyleModel",
      "state": {
       "description_width": ""
      }
     },
     "f9f56002e70643c3b3b77d3cab1a1b66": {
      "model_module": "@jupyter-widgets/base",
      "model_module_version": "1.2.0",
      "model_name": "LayoutModel",
      "state": {}
     },
     "fc6c18e293874f4ba389f0e848c2cf72": {
      "model_module": "@jupyter-widgets/base",
      "model_module_version": "1.2.0",
      "model_name": "LayoutModel",
      "state": {}
     },
     "fcac153e97b54b79a1f88344dd1d0e5d": {
      "model_module": "@jupyter-widgets/base",
      "model_module_version": "1.2.0",
      "model_name": "LayoutModel",
      "state": {}
     },
     "fd25f51623e24b189d752a11dfbe8f04": {
      "model_module": "@jupyter-widgets/base",
      "model_module_version": "1.2.0",
      "model_name": "LayoutModel",
      "state": {}
     },
     "fe8e00dfca8d480eb475c91a0a81cbb8": {
      "model_module": "@jupyter-widgets/base",
      "model_module_version": "1.2.0",
      "model_name": "LayoutModel",
      "state": {}
     }
    },
    "version_major": 2,
    "version_minor": 0
   }
  }
 },
 "nbformat": 4,
 "nbformat_minor": 5
}
