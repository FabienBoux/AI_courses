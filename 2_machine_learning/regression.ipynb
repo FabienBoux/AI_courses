{
 "cells": [
  {
   "cell_type": "markdown",
   "id": "7564ce05-81cc-49d9-8c00-0c48cb03bc65",
   "metadata": {
    "tags": []
   },
   "source": [
    "# Logistic regression\n",
    "\n",
    "The logistic model (or logit model) is used to model the probability of a certain class or event existing such as pass/fail, win/lose, alive/dead or healthy/sick. It should be noted that against intuition, logistic regression is a classification model, which in its basic form uses a logistic function to model a binary dependent variable, although many more complex extensions exist. In regression analysis, logistic regression (or logit regression) is estimating the parameters of a logistic model (a form of binary regression).\n",
    "\n",
    "As the model is linear, the hypothesis function can be written as follows:\n",
    "\n",
    "$$ S(X^{(i)}) = \\theta_0 + \\theta_1 x_1 + \\theta_2 x_2 + \\theta_3 x_3 + \\dots + \\theta_n x_n ,$$\n",
    "\n",
    "with:\n",
    "\n",
    "- $S(X^{(i)})$ is an observation, this variable is a vector containing $x_1$, $x_2$, $x_3$, $\\dots$, $x_n$.\n",
    "- $x_i$ is a predictive variable (feature) that will be used in the calculation of the predictive model.\n",
    "- $\\theta_i$ is a weight/parameter of the hypothesis function. These are the $\\theta_{i}$ that we try to calculate to obtain our prediction function.\n",
    "- $\\theta_0$ is a constant nammed bias.\n",
    "\n",
    "or with $x_0 = 1$:\n",
    "\n",
    "$$ S(X) = \\sum_{i=0}^{n} \\theta_i x_i = \\Theta X . $$\n",
    "\n",
    "We call this hypothesis function: the score function. The purpose is to estimate the $\\theta_0$, $\\theta_1$, $\\theta_2$, $\\theta_3$, $\\dots$, $\\theta_n$ so that: \n",
    "\n",
    "- $S(X^{(i)}) > 0$ in first class\n",
    "- $S(X^{(i)}) < 0$ in second class\n",
    "\n",
    "We apply to the score function, the sigmoid function, which returns values between 0 and 1. The result of this operation can be interpreted as the probability that the observation $X$ belongs to the class 1.\n",
    "\n",
    "The sigmoid function (or logistic function) is:\n",
    "\n",
    "$$Sigmoid(x) = \\frac{1}{1 + e^{-x}} .$$ "
   ]
  },
  {
   "cell_type": "code",
   "execution_count": 7,
   "id": "baa4699b-6941-4993-bb7e-e461ae7f5a11",
   "metadata": {
    "jupyter": {
     "source_hidden": true
    },
    "tags": []
   },
   "outputs": [
    {
     "data": {
      "image/png": "[encoded data removed]",
      "text/plain": [
       "<Figure size 432x288 with 1 Axes>"
      ]
     },
     "metadata": {
      "needs_background": "light"
     },
     "output_type": "display_data"
    }
   ],
   "source": [
    "import math\n",
    "import matplotlib.pyplot as plt\n",
    "import numpy as np\n",
    "\n",
    "def sigmoid(x):\n",
    "    return np.array([1 / (1 + math.exp(-i)) for i in x])\n",
    "\n",
    "x = np.arange(-8 ,8, 0.1)\n",
    "plt.plot(x, sigmoid(x));\n",
    "plt.grid()"
   ]
  },
  {
   "cell_type": "markdown",
   "id": "f0180224-061a-4320-a716-0f56cfafda8d",
   "metadata": {},
   "source": [
    "Applying this sigmoid function on our score function, we obtain our hypothesis function for the logistic regression:\n",
    "\n",
    "$$ H(X) = Sigmoid(S(X)) = Sigmoid(\\Theta X) = \\frac{1}{1 + e^{\\Theta X}} $$ "
   ]
  }
 ],
 "metadata": {
  "kernelspec": {
   "display_name": "Python 3 (ipykernel)",
   "language": "python",
   "name": "python3"
  },
  "language_info": {
   "codemirror_mode": {
    "name": "ipython",
    "version": 3
   },
   "file_extension": ".py",
   "mimetype": "text/x-python",
   "name": "python",
   "nbconvert_exporter": "python",
   "pygments_lexer": "ipython3",
   "version": "3.9.7"
  },
  "widgets": {
   "application/vnd.jupyter.widget-state+json": {
    "state": {},
    "version_major": 2,
    "version_minor": 0
   }
  }
 },
 "nbformat": 4,
 "nbformat_minor": 5
}
